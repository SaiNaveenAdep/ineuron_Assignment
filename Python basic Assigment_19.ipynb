{
 "cells": [
  {
   "cell_type": "code",
   "execution_count": 3,
   "id": "e52ad85a",
   "metadata": {},
   "outputs": [
    {
     "name": "stdout",
     "output_type": "stream",
     "text": [
      "<class '__main__.things'>\n",
      "\n"
     ]
    }
   ],
   "source": [
    "\"\"\"1. Make a class called Thing with no contents and print it. Then, create an object called example\n",
    "from this class and also print it. Are the printed values the same or different?\"\"\"\n",
    "\n",
    "\n",
    "\n",
    "class things:\n",
    "    pass\n",
    "    print(things)\n",
    "\n"
   ]
  },
  {
   "cell_type": "code",
   "execution_count": 4,
   "id": "8e6576f9",
   "metadata": {},
   "outputs": [
    {
     "name": "stdout",
     "output_type": "stream",
     "text": [
      "<__main__.things object at 0x0000013887C78100>\n"
     ]
    }
   ],
   "source": [
    "examples = things()\n",
    "print(examples)\n",
    "\n",
    "#Printed values are not same, it prints, class and object details."
   ]
  },
  {
   "cell_type": "code",
   "execution_count": 5,
   "id": "5dfce3f2",
   "metadata": {},
   "outputs": [
    {
     "data": {
      "text/plain": [
       "'abc'"
      ]
     },
     "execution_count": 5,
     "metadata": {},
     "output_type": "execute_result"
    }
   ],
   "source": [
    "\"\"\"2. Create a new class called Thing2 and add the value \"abc\" to the letters class attribute. Letters\n",
    "should be printed.\"\"\"\n",
    "\n",
    "\n",
    "class things2:\n",
    "    letters=\"abc\"\n",
    "things2.letters\n",
    "    "
   ]
  },
  {
   "cell_type": "code",
   "execution_count": 19,
   "id": "25b822e7",
   "metadata": {},
   "outputs": [
    {
     "name": "stdout",
     "output_type": "stream",
     "text": [
      "xyz\n"
     ]
    }
   ],
   "source": [
    "\"\"\"3. Make yet another class called, of course, Thing3. This time, assign the value \"xyz\" to an instance\n",
    "(object) attribute called letters. Print letters. Do you need to make an object from the class to do\n",
    "this?\"\"\"\n",
    "\n",
    "class things3:\n",
    "    def __init__(self,letter):\n",
    "        self.letter = letter\n",
    "    def letters(self):\n",
    "        print(self.letter)\n",
    "things3(\"xyz\").letters()"
   ]
  },
  {
   "cell_type": "code",
   "execution_count": 8,
   "id": "4b0d506a",
   "metadata": {},
   "outputs": [
    {
     "data": {
      "text/plain": [
       "'Hydrogen'"
      ]
     },
     "execution_count": 8,
     "metadata": {},
     "output_type": "execute_result"
    }
   ],
   "source": [
    " \"\"\"4. Create an Element class with the instance attributes name, symbol, and number. \n",
    "       Create a class object with the values 'Hydrogen','H' and 1.\"\"\"\n",
    "    \n",
    "class Element:\n",
    "    def __init__(self,name,symbol,number):\n",
    "        self.name = name\n",
    "        self.symbol = symbol\n",
    "        self.number = number\n",
    "obj = Element('Hydrogen','H',1)\n",
    "obj.name\n",
    "\n",
    "\n",
    "    "
   ]
  },
  {
   "cell_type": "code",
   "execution_count": 9,
   "id": "db863f79",
   "metadata": {},
   "outputs": [
    {
     "data": {
      "text/plain": [
       "'H'"
      ]
     },
     "execution_count": 9,
     "metadata": {},
     "output_type": "execute_result"
    }
   ],
   "source": [
    "\"\"\"5. Make a dictionary with these keys and values: 'name' 'Hydrogen' 'symbol' 'H', 'number' 1. Then,create an object called hydrogen from class Element using this dictionary.\"\"\"\n",
    "\n",
    "\n",
    "dict = {\"name\": \"hydrogen\", \"symbol\":\"H\",\"number\": 1}\n",
    "hydrogen = Element(**dict) # using dictionary unpacking **\n",
    "hydrogen.symbol\n",
    "\n"
   ]
  },
  {
   "cell_type": "code",
   "execution_count": 15,
   "id": "06e490fc",
   "metadata": {},
   "outputs": [],
   "source": [
    "\"\"\"6. For the Element class, define a method called dump() that prints the values of the object’s\n",
    "attributes (name, symbol, and number). Create the hydrogen object from this new definition and\n",
    "use dump() to print its attributes.\"\"\"\n",
    "\n",
    "\n",
    "class Element:\n",
    "    def __init__(self,name,symbol,number):\n",
    "        self.name = name\n",
    "        self.symbol= symbol\n",
    "        self.number = number\n",
    "    def dump(self):\n",
    "        print(self.name,self.symbol,self.number)\n"
   ]
  },
  {
   "cell_type": "code",
   "execution_count": 16,
   "id": "a6a4cfc8",
   "metadata": {},
   "outputs": [
    {
     "name": "stdout",
     "output_type": "stream",
     "text": [
      "Hydrogen H 1\n"
     ]
    }
   ],
   "source": [
    "hydrogen =Element('Hydrogen','H',1)\n",
    "hydrogen.dump()"
   ]
  },
  {
   "cell_type": "code",
   "execution_count": 38,
   "id": "a4506c7d",
   "metadata": {},
   "outputs": [],
   "source": [
    "\"\"\"7. Call print(hydrogen). In the definition of Element, change the name of method dump to __str__,\n",
    "create a new hydrogen object, and call print(hydrogen) again.\"\"\"\n",
    "\n",
    "\n",
    "class Element:\n",
    "    def __init__(self,name,symbol,number):\n",
    "        self.name = name\n",
    "        self.symbol = symbol\n",
    "        self.number = number\n",
    "    def __str__(self):\n",
    "        return('name=%s, symbol=%s, number=%s'% (self.name, self.symbol, self.number))\n"
   ]
  },
  {
   "cell_type": "code",
   "execution_count": 40,
   "id": "4e22c560",
   "metadata": {},
   "outputs": [
    {
     "name": "stdout",
     "output_type": "stream",
     "text": [
      "name=Hydrogen, symbol=H, number=1\n"
     ]
    }
   ],
   "source": [
    "hydrogen =Element('Hydrogen','H',1)\n",
    "print(hydrogen)"
   ]
  },
  {
   "cell_type": "code",
   "execution_count": 43,
   "id": "4c1ac141",
   "metadata": {},
   "outputs": [],
   "source": [
    "\"\"\"8. Modify Element to make the attributes name, symbol, and number private. Define a getter\n",
    "property for each to return its value.\"\"\"\n",
    "\n",
    "\n",
    "class Element:\n",
    "    def __init__(self, name,symbol,number):\n",
    "        self.name = name\n",
    "        self.symbol = symbol\n",
    "        self.number = number\n",
    "    # getter property \n",
    "    \n",
    "    def name(self):\n",
    "        return(self.__name)\n",
    "    \n",
    "    # getter property   \n",
    "    \n",
    "    def symbol(self):\n",
    "        return(self.__symbol)\n",
    "    \n",
    "    # getter property    \n",
    "    def number(self):\n",
    "        return(self.__number)\n",
    "        "
   ]
  },
  {
   "cell_type": "code",
   "execution_count": 44,
   "id": "6a231161",
   "metadata": {},
   "outputs": [
    {
     "data": {
      "text/plain": [
       "'Hydrogen'"
      ]
     },
     "execution_count": 44,
     "metadata": {},
     "output_type": "execute_result"
    }
   ],
   "source": [
    "hydrogen =Element('Hydrogen','H', 1)\n",
    "hydrogen.name"
   ]
  },
  {
   "cell_type": "code",
   "execution_count": 45,
   "id": "0032f203",
   "metadata": {},
   "outputs": [],
   "source": [
    "\"\"\"9. Define three classes: Bear, Rabbit, and Octothorpe. For each, define only one method: eats(). This\n",
    "should return 'berries '(Bear),'clover' (Rabbit), or 'campers'(Octothorpe). Create one object from\n",
    "each and print what it eats.\"\"\"\n",
    "\n",
    "class Bear:\n",
    "    def eats():\n",
    "        print('berries')\n",
    "class Rabbit:\n",
    "     def eats():\n",
    "        print('Clover')\n",
    "        \n",
    "class Octothorpe:\n",
    "    def eats():\n",
    "        print('campers')\n",
    "\n",
    "\n",
    "\n",
    "\n"
   ]
  },
  {
   "cell_type": "code",
   "execution_count": 46,
   "id": "7eb65f6e",
   "metadata": {},
   "outputs": [
    {
     "name": "stdout",
     "output_type": "stream",
     "text": [
      "berries\n"
     ]
    }
   ],
   "source": [
    "Bear.eats()"
   ]
  },
  {
   "cell_type": "code",
   "execution_count": 47,
   "id": "bc4fb8a0",
   "metadata": {},
   "outputs": [
    {
     "name": "stdout",
     "output_type": "stream",
     "text": [
      "Clover\n"
     ]
    }
   ],
   "source": [
    "Rabbit.eats()"
   ]
  },
  {
   "cell_type": "code",
   "execution_count": 49,
   "id": "78d63021",
   "metadata": {},
   "outputs": [
    {
     "name": "stdout",
     "output_type": "stream",
     "text": [
      "campers\n"
     ]
    }
   ],
   "source": [
    "Octothorpe.eats()"
   ]
  },
  {
   "cell_type": "code",
   "execution_count": 84,
   "id": "e36cbae5",
   "metadata": {},
   "outputs": [],
   "source": [
    "\"\"\"10. Define these classes: Laser, Claw, and SmartPhone. Each has only one method: does(). This\n",
    "returns 'disintegrate'(Laser), 'crush'; (Claw), or'ring' (SmartPhone). Then, define the class Robot that\n",
    "has one instance (object) of each of these. Define a does() method for the Robot that prints what its\n",
    "component objects do.\"\"\"\n",
    "\n",
    "\n",
    "\n",
    "\n",
    "class Laser:\n",
    "    def does(self):\n",
    "        return ('disintegrate')\n",
    "class Claw:\n",
    "    def does(self):\n",
    "        return ('Crush')\n",
    "class SmartPhone:\n",
    "    def does(self):\n",
    "        return ('ring')\n",
    "    \n",
    "class Robot:\n",
    "    def __init__(self):\n",
    "        self.laser =Laser()\n",
    "        self.claw = Claw()\n",
    "        self.smartPhone = SmartPhone()\n",
    "    def does(self):\n",
    "        return (\"Laser is %s, Claw is %s, SmartPhone is %s\" %(self.laser.does(),self.claw.does(),self.smartPhone.does()))"
   ]
  },
  {
   "cell_type": "code",
   "execution_count": 85,
   "id": "1cc64fdb",
   "metadata": {},
   "outputs": [],
   "source": [
    "robo = Robot()"
   ]
  },
  {
   "cell_type": "code",
   "execution_count": 86,
   "id": "e5fab50b",
   "metadata": {},
   "outputs": [
    {
     "data": {
      "text/plain": [
       "'Laser is disintegrate, Claw is Crush, SmartPhone is ring'"
      ]
     },
     "execution_count": 86,
     "metadata": {},
     "output_type": "execute_result"
    }
   ],
   "source": [
    "robo.does()"
   ]
  },
  {
   "cell_type": "code",
   "execution_count": null,
   "id": "944f01cc",
   "metadata": {},
   "outputs": [],
   "source": []
  },
  {
   "cell_type": "code",
   "execution_count": null,
   "id": "ed7d4514",
   "metadata": {},
   "outputs": [],
   "source": []
  }
 ],
 "metadata": {
  "kernelspec": {
   "display_name": "Python 3 (ipykernel)",
   "language": "python",
   "name": "python3"
  },
  "language_info": {
   "codemirror_mode": {
    "name": "ipython",
    "version": 3
   },
   "file_extension": ".py",
   "mimetype": "text/x-python",
   "name": "python",
   "nbconvert_exporter": "python",
   "pygments_lexer": "ipython3",
   "version": "3.9.12"
  }
 },
 "nbformat": 4,
 "nbformat_minor": 5
}
