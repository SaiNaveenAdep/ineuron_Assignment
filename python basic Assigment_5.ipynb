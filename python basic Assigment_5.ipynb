{
 "cells": [
  {
   "cell_type": "code",
   "execution_count": 1,
   "id": "9f5533cb",
   "metadata": {},
   "outputs": [],
   "source": [
    "# 1. What does an empty dictionary's code look like?\n",
    "\n",
    "d = {}\n",
    "it's look like {}"
   ]
  },
  {
   "cell_type": "code",
   "execution_count": 2,
   "id": "7a18b2dc",
   "metadata": {},
   "outputs": [
    {
     "data": {
      "text/plain": [
       "{}"
      ]
     },
     "execution_count": 2,
     "metadata": {},
     "output_type": "execute_result"
    }
   ],
   "source": [
    "d"
   ]
  },
  {
   "cell_type": "code",
   "execution_count": null,
   "id": "f3158a49",
   "metadata": {},
   "outputs": [],
   "source": [
    "# 2. What is the value of a dictionary value with the key 'foo' and the value 42?\n",
    "\n",
    "d = {\"key\": \"value\"}\n",
    "\n",
    "d ={\"foo\" : 42}\n"
   ]
  },
  {
   "cell_type": "code",
   "execution_count": null,
   "id": "54a5207f",
   "metadata": {},
   "outputs": [],
   "source": [
    "# 3. What is the most significant distinction between a dictionary and a list?\n",
    "\n",
    "The items stored in a dictionary are unordered,\n",
    "where as the items in a list are ordered.\n",
    "\n",
    "\n"
   ]
  },
  {
   "cell_type": "code",
   "execution_count": null,
   "id": "47f7ae35",
   "metadata": {},
   "outputs": [],
   "source": [
    "# 4. What happens if you try to access spam['foo'] if spam is {'bar': 100}?\n",
    "\n",
    "spam = {'bar': 100}\n",
    "spam['foo']\n",
    "You get a KeyError error.\n"
   ]
  },
  {
   "cell_type": "code",
   "execution_count": null,
   "id": "ac660c17",
   "metadata": {},
   "outputs": [],
   "source": [
    "# 5. If a dictionary is stored in spam, what is the difference between the expressions 'cat' in spam and\n",
    "'cat' in spam.keys()?\n",
    "\n",
    "spam ={\"cat\": 1}\n",
    "spam.keys()\n",
    "There is no difference.\n",
    "The in operator checks whether a value exists as a key in the dictionary."
   ]
  },
  {
   "cell_type": "code",
   "execution_count": 10,
   "id": "bec59ea1",
   "metadata": {},
   "outputs": [
    {
     "data": {
      "text/plain": [
       "dict_keys(['cat'])"
      ]
     },
     "execution_count": 10,
     "metadata": {},
     "output_type": "execute_result"
    }
   ],
   "source": [
    "spam = {\"cat\": 1}\n",
    "spam.keys()"
   ]
  },
  {
   "cell_type": "code",
   "execution_count": null,
   "id": "471e384d",
   "metadata": {},
   "outputs": [],
   "source": [
    "# 6. If a dictionary is stored in spam, what is the difference between the expressions 'cat' in spam and\n",
    "'cat' in spam.values()?\n",
    "\n",
    "\n",
    "'cat' in spam checks whether there is a 'cat' key in the dictionary,\n",
    "while 'cat' in spam.values() \n",
    "checks whether there is a value 'cat' for one of the keys in spam."
   ]
  },
  {
   "cell_type": "code",
   "execution_count": 11,
   "id": "22e46bca",
   "metadata": {},
   "outputs": [
    {
     "data": {
      "text/plain": [
       "dict_values([1])"
      ]
     },
     "execution_count": 11,
     "metadata": {},
     "output_type": "execute_result"
    }
   ],
   "source": [
    "spam ={\"cat\": 1}\n",
    "spam.values()"
   ]
  },
  {
   "cell_type": "code",
   "execution_count": null,
   "id": "f4ac83d8",
   "metadata": {},
   "outputs": [],
   "source": [
    "# 7. What is a shortcut for the following code?\n",
    "\"\"\"\"if 'color' not in spam:\n",
    "spam['color'] = 'black' \"\"\"\n",
    "\n",
    "spam.setdefault('color', 'black')"
   ]
  },
  {
   "cell_type": "code",
   "execution_count": 12,
   "id": "a0cce136",
   "metadata": {},
   "outputs": [
    {
     "data": {
      "text/plain": [
       "'black'"
      ]
     },
     "execution_count": 12,
     "metadata": {},
     "output_type": "execute_result"
    }
   ],
   "source": [
    "spam.setdefault('color', 'black')"
   ]
  },
  {
   "cell_type": "code",
   "execution_count": 23,
   "id": "a5a6fb0e",
   "metadata": {},
   "outputs": [
    {
     "name": "stdout",
     "output_type": "stream",
     "text": [
      "{'Name': 'naveen', 'Surname': 'Adep', 'Address': {'FLAT ': 1354, 'BLOCK ': 'A', 'LANE ': 4, 'CITY ': 'HYDERABAD'}}\n",
      "\n",
      "\n",
      "***With Pretty Print***\n",
      "-----------------------\n",
      "{'Address': {'BLOCK ': 'A',\n",
      "             'CITY ': 'HYDERABAD',\n",
      "             'FLAT ': 1354,\n",
      "             'LANE ': 4},\n",
      " 'Name': 'naveen',\n",
      " 'Surname': 'Adep'}\n"
     ]
    }
   ],
   "source": [
    "# 8. How do you 'pretty print' dictionary values using which module and function?\n",
    "\n",
    "\n",
    "pprint.pprint()\n",
    "\n",
    "EXAMPLE:\n",
    "\n",
    "import pprint\n",
    "\n",
    "student_dict = {'Name': 'naveen', 'Surname': 'Adep', \n",
    "     'Address': {'FLAT ':1354, 'BLOCK ':'A', 'LANE ':4, 'CITY ': 'HYDERABAD'}}\n",
    "\n",
    "print(student_dict)\n",
    "print(\"\\n\")\n",
    "print(\"***With Pretty Print***\")\n",
    "print(\"-----------------------\")\n",
    "pprint.pprint(student_dict,width=1)"
   ]
  },
  {
   "cell_type": "code",
   "execution_count": null,
   "id": "0078c6d0",
   "metadata": {},
   "outputs": [],
   "source": []
  }
 ],
 "metadata": {
  "kernelspec": {
   "display_name": "Python 3 (ipykernel)",
   "language": "python",
   "name": "python3"
  },
  "language_info": {
   "codemirror_mode": {
    "name": "ipython",
    "version": 3
   },
   "file_extension": ".py",
   "mimetype": "text/x-python",
   "name": "python",
   "nbconvert_exporter": "python",
   "pygments_lexer": "ipython3",
   "version": "3.9.12"
  }
 },
 "nbformat": 4,
 "nbformat_minor": 5
}
