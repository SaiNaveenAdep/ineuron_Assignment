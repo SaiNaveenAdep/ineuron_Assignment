{
 "cells": [
  {
   "cell_type": "code",
   "execution_count": null,
   "id": "234282da",
   "metadata": {},
   "outputs": [],
   "source": [
    "# 1. How do you distinguish between shutil.copy() and shutil.copytree()?\n",
    "\n",
    "-->shutil.copy() method in Python is used to copy the content of source file to destination file or directory.\n",
    "-->It also preserves the file’s permission mode \n",
    "-->but other metadata of the file like the file’s creation and modification timesis not preserved. \n",
    "-->Source must represent a file but destination can be a file or a directory. \n",
    "-->If the destination is a directory then the file will be copied into destination using the base filename from source. \n",
    "-->Also, destination must be writable. \n",
    "-->If destination is a file and already exists \n",
    "-->then it will be replaced with the source file otherwise a new file will be created.\n",
    "\n",
    "\n",
    "Example:\n"
   ]
  },
  {
   "cell_type": "code",
   "execution_count": 33,
   "id": "cda32b8a",
   "metadata": {},
   "outputs": [
    {
     "name": "stdout",
     "output_type": "stream",
     "text": [
      "Source and destination represents the same file.\n"
     ]
    }
   ],
   "source": [
    "# Python program to explain shutil.copy() method\n",
    "   \n",
    "# importing shutil module\n",
    "import shutil\n",
    " \n",
    "# Source path\n",
    "source = \"c:/Users/SVKUSER/PycharmProjects/mysql\"\n",
    " \n",
    "# Destination path\n",
    "destination = \"c:/Users/SVKUSER/pycharmProjects\"\n",
    " \n",
    "# Copy the content of\n",
    "# source to destination\n",
    " \n",
    "try:\n",
    "    shutil.copy(source, destination)\n",
    "    print(\"File copied successfully.\")\n",
    " \n",
    "# If source and destination are same\n",
    "except shutil.SameFileError:\n",
    "    print(\"Source and destination represents the same file.\")\n",
    " \n",
    "# If there is any permission issue\n",
    "except PermissionError:\n",
    "    print(\"Permission denied.\")\n",
    " \n",
    "# For other errors\n",
    "except:\n",
    "    print(\"Error occurred while copying file.\")"
   ]
  },
  {
   "cell_type": "code",
   "execution_count": 31,
   "id": "e57a5038",
   "metadata": {},
   "outputs": [
    {
     "name": "stdout",
     "output_type": "stream",
     "text": [
      "Before copying file:\n",
      "['mysql', 'mytestfile-123', 'opps_class3', 'pythonProject', 'pythonprojectWithMySql', 'test']\n",
      "After copying file:\n",
      "['mysql', 'mytestfile-123', 'mytestfile-1234', 'opps_class3', 'pythonProject', 'pythonprojectWithMySql', 'test']\n",
      "Destination path: c:/Users/SVKUSER/PycharmProjects/mytestfile-1234\n"
     ]
    }
   ],
   "source": [
    "# Python program to explain shutil.copytree() method \n",
    "       \n",
    "# importing os module \n",
    "import os \n",
    "   \n",
    "# importing shutil module \n",
    "import shutil \n",
    "   \n",
    "# path \n",
    "path = \"c:/Users/SVKUSER/PycharmProjects\"\n",
    "   \n",
    "# List files and directories \n",
    "# in \"c:/Users/SVKUSER/PycharmProjects\" \n",
    "print(\"Before copying file:\") \n",
    "print(os.listdir(path)) \n",
    "\n",
    "# Source path \n",
    "src = \"c:/Users/SVKUSER/PycharmProjects/test\"\n",
    "   \n",
    "# Destination path \n",
    "dest =\"c:/Users/SVKUSER/PycharmProjects/mytestfile-1234\"\n",
    "   \n",
    "# Copy the content of \n",
    "# source to destination \n",
    "destination = shutil.copytree(src, dest) \n",
    "   \n",
    "# List files and directories \n",
    "# in \"c:/Users/SVKUSER/PycharmProjects\" \n",
    "\n",
    "print(\"After copying file:\") \n",
    "print(os.listdir(path)) \n",
    "   \n",
    "# Print path of newly \n",
    "# created file \n",
    "print(\"Destination path:\", destination)"
   ]
  },
  {
   "cell_type": "code",
   "execution_count": null,
   "id": "c053934b",
   "metadata": {},
   "outputs": [],
   "source": [
    "# 2. What function is used to rename files?\n",
    "\n",
    "\n",
    "OS module in Python provides functions for interacting with the operating system. \n",
    "OS comes under Python’s standard utility modules. \n",
    "This module provides a portable way of using operating system dependent functionality.\n",
    "\n",
    "\n",
    "\n",
    "--> # os.rename() method in Python is used to rename a file or directory.\n",
    "\n",
    "Example:\n"
   ]
  },
  {
   "cell_type": "code",
   "execution_count": 34,
   "id": "043be7ef",
   "metadata": {},
   "outputs": [
    {
     "name": "stdout",
     "output_type": "stream",
     "text": [
      "Source path renamed to destination path successfully.\n"
     ]
    }
   ],
   "source": [
    "\n",
    "# Python program to explain os.rename() method \n",
    "  \n",
    "# importing os module \n",
    "import os\n",
    "  \n",
    "  \n",
    "# Source file path\n",
    "source = \"c:/Users/SVKUSER/PycharmProjects/mytestfile-1234\"\n",
    "  \n",
    "# destination file path\n",
    "dest = 'c:/Users/SVKUSER/PycharmProjects/MY_NEW_test_File-1234'\n",
    "  \n",
    "  \n",
    "# Now rename the source path\n",
    "# to destination path\n",
    "# using os.rename() method\n",
    "os.rename(source, dest)\n",
    "print(\"Source path renamed to destination path successfully.\")"
   ]
  },
  {
   "cell_type": "code",
   "execution_count": null,
   "id": "b6de920b",
   "metadata": {},
   "outputs": [],
   "source": [
    "# 3. What is the difference between the delete functions in the send2trash and shutil modules?\n",
    "\n",
    "\n",
    "The send2trash functions will move a file or folder to the recycle bin,\n",
    "while shutil functions will permanently delete files and folders."
   ]
  },
  {
   "cell_type": "code",
   "execution_count": null,
   "id": "7d5485cd",
   "metadata": {},
   "outputs": [],
   "source": [
    "# 4. ZipFile objects have a close() method just like File objects’ close() method. What ZipFile method is\n",
    "#equivalent to File objects’ open() method?\n",
    "\n",
    "The zipfile.ZipFile() function is equivalent to the open() function; \n",
    "the first argument is the filename, \n",
    "and the second argument is the mode to open the ZIP file in (read, write, or append)."
   ]
  },
  {
   "cell_type": "code",
   "execution_count": null,
   "id": "e6c99de4",
   "metadata": {},
   "outputs": [],
   "source": [
    "# 5. Create a programme that searches a folder tree for files with a certain file extension (such as .pdf\n",
    "# or .jpg). Copy these files from whatever location they are in to a new folder.\n",
    "\n",
    "\n",
    "Example:"
   ]
  },
  {
   "cell_type": "code",
   "execution_count": 47,
   "id": "d0c47f50",
   "metadata": {},
   "outputs": [
    {
     "name": "stdout",
     "output_type": "stream",
     "text": [
      "looking in C:\\Users\\SVKUSER\\randomFolder for files with extensions of .php,.py\n"
     ]
    }
   ],
   "source": [
    "import os,shutil\n",
    "\n",
    "def folder_Tree(folder,extensions,destFolder):\n",
    "    folder = os.path.abspath(folder)\n",
    "    destFolder = os.path.abspath(destFolder)\n",
    "    print(\"looking in\",folder,  \"for files with extensions of\", \",\" .join(extensions))\n",
    "    for foldername, subfolder, filenames in os.walk(folder):\n",
    "        for filename in filename:\n",
    "            name, extension = os.path.splitext(filename)\n",
    "        if extension in extensions:\n",
    "            fileAbspath = foldername + os.path.sep + filename\n",
    "            print(\"coping\", fileAbspath, \"to\", destFolder)\n",
    "            shutil.copy(fileAbspath, destFolder)\n",
    "extensions = [\".php\",\".py\"]\n",
    "folder = \"randomFolder\"\n",
    "destFolder = \"selectiveFolder\"\n",
    "folder_Tree(folder, extensions,destFolder)\n"
   ]
  },
  {
   "cell_type": "code",
   "execution_count": null,
   "id": "46e3d555",
   "metadata": {},
   "outputs": [],
   "source": []
  }
 ],
 "metadata": {
  "kernelspec": {
   "display_name": "Python 3 (ipykernel)",
   "language": "python",
   "name": "python3"
  },
  "language_info": {
   "codemirror_mode": {
    "name": "ipython",
    "version": 3
   },
   "file_extension": ".py",
   "mimetype": "text/x-python",
   "name": "python",
   "nbconvert_exporter": "python",
   "pygments_lexer": "ipython3",
   "version": "3.9.12"
  }
 },
 "nbformat": 4,
 "nbformat_minor": 5
}
