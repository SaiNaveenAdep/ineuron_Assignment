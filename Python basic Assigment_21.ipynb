{
 "cells": [
  {
   "cell_type": "code",
   "execution_count": 8,
   "id": "1bf79069",
   "metadata": {},
   "outputs": [
    {
     "data": {
      "text/plain": [
       "'2022-09-02'"
      ]
     },
     "execution_count": 8,
     "metadata": {},
     "output_type": "execute_result"
    }
   ],
   "source": [
    "\"\"\"1. Add the current date to the text file today.txt as a string.\"\"\"\n",
    "\n",
    "\n",
    "import datetime\n",
    "from datetime import date\n",
    "now = date.today()\n",
    "cur_date = now.isoformat()\n",
    "cur_date"
   ]
  },
  {
   "cell_type": "code",
   "execution_count": 9,
   "id": "04c49ad1",
   "metadata": {},
   "outputs": [
    {
     "data": {
      "text/plain": [
       "'2022-08-17'"
      ]
     },
     "execution_count": 9,
     "metadata": {},
     "output_type": "execute_result"
    }
   ],
   "source": [
    "\"\"\"2. Read the text file today.txt into the string today_string\"\"\"\n",
    "with open('today.txt','r') as file:\n",
    "    today_string = file.read()\n",
    "today_string"
   ]
  },
  {
   "cell_type": "code",
   "execution_count": 10,
   "id": "15f791db",
   "metadata": {},
   "outputs": [
    {
     "data": {
      "text/plain": [
       "datetime.datetime(2022, 8, 17, 0, 0)"
      ]
     },
     "execution_count": 10,
     "metadata": {},
     "output_type": "execute_result"
    }
   ],
   "source": [
    "\"\"\"3. Parse the date from today_string.\"\"\"\n",
    "\n",
    "from datetime import datetime\n",
    "format = '%Y-%m-%d'\n",
    "datetime.strptime(today_string,format)"
   ]
  },
  {
   "cell_type": "code",
   "execution_count": 11,
   "id": "ccb2e128",
   "metadata": {},
   "outputs": [
    {
     "data": {
      "text/plain": [
       "['-1.14-windows.xml',\n",
       " '.anaconda',\n",
       " '.astropy',\n",
       " '.bash_history',\n",
       " '.conda',\n",
       " '.condarc',\n",
       " '.config',\n",
       " '.continuum',\n",
       " '.gitconfig',\n",
       " '.gnupg',\n",
       " '.idea',\n",
       " '.idlerc',\n",
       " '.ipynb_checkpoints',\n",
       " '.ipython',\n",
       " '.jupyter',\n",
       " '.lesshst',\n",
       " '.matplotlib',\n",
       " '.node_repl_history',\n",
       " '.openshot_qt',\n",
       " '.vscode',\n",
       " '.yarnrc',\n",
       " '15th may 2022 1st task!.ipynb',\n",
       " '30Sep2021.zip',\n",
       " '3D Objects',\n",
       " 'all together lift.mp4',\n",
       " 'all together lift.osp',\n",
       " 'all together lift_assets',\n",
       " 'anaconda3',\n",
       " 'AppData',\n",
       " 'Application Data',\n",
       " 'b',\n",
       " 'Basic functions.ipynb',\n",
       " 'books.csv',\n",
       " 'books.db',\n",
       " 'books1.db',\n",
       " 'class iteration,generator,map,redue,filter,basic file operartion.ipynb',\n",
       " 'Contacts',\n",
       " 'Cookies',\n",
       " 'cropped.png',\n",
       " 'Desktop',\n",
       " 'Documents',\n",
       " 'download.jpg',\n",
       " 'Downloads',\n",
       " 'Exception Handling by Sudhanshu sir.ipynb',\n",
       " 'Exception Handling.ipynb',\n",
       " 'Favorites',\n",
       " 'file.text',\n",
       " 'functions.ipynb',\n",
       " 'govardhana lift.mp4',\n",
       " 'govardhana lift.osp',\n",
       " 'govardhana lift_assets',\n",
       " 'Govardhan_Skit.osp',\n",
       " 'Govardhan_Skit_assets',\n",
       " 'hare.text',\n",
       " 'harekrishna.py',\n",
       " 'harekrishna.txt',\n",
       " 'hellothere.docx',\n",
       " 'innovators.csv',\n",
       " 'IntelGraphicsProfiles',\n",
       " 'krish.txt',\n",
       " 'krishna&Arjun.png',\n",
       " 'krishna.text',\n",
       " 'Links',\n",
       " 'Local Settings',\n",
       " 'MicrosoftEdgeBackups',\n",
       " 'Music',\n",
       " 'My Documents',\n",
       " 'NetHood',\n",
       " 'NTUSER.DAT',\n",
       " 'ntuser.dat.LOG1',\n",
       " 'ntuser.dat.LOG2',\n",
       " 'NTUSER.DAT{796c7356-17bd-11ec-9d9f-705a0f495dee}.TM.blf',\n",
       " 'NTUSER.DAT{796c7356-17bd-11ec-9d9f-705a0f495dee}.TMContainer00000000000000000001.regtrans-ms',\n",
       " 'NTUSER.DAT{796c7356-17bd-11ec-9d9f-705a0f495dee}.TMContainer00000000000000000002.regtrans-ms',\n",
       " 'ntuser.ini',\n",
       " 'OneDrive',\n",
       " 'open_fileFromJupyterNoteBook.text',\n",
       " 'pandas_class.ipynb',\n",
       " 'pandas_practice2.ipynb',\n",
       " 'pasted.png',\n",
       " 'Pictures',\n",
       " 'PrintHood',\n",
       " 'PycharmProjects',\n",
       " 'Python basic Assigment_1.ipynb',\n",
       " 'python basic Assigment_10.ipynb',\n",
       " 'python basic Assigment_12.ipynb',\n",
       " 'python basic Assigment_13.ipynb',\n",
       " 'Python basic Assigment_14.ipynb',\n",
       " 'Python basic Assigment_15.ipynb',\n",
       " 'Python basic Assigment_16.ipynb',\n",
       " 'Python basic Assigment_17.ipynb',\n",
       " 'Python basic Assigment_18.ipynb',\n",
       " 'Python basic Assigment_19.ipynb',\n",
       " 'Python basic Assigment_2.ipynb',\n",
       " 'Python basic Assigment_20.ipynb',\n",
       " 'Python basic Assigment_21.ipynb',\n",
       " 'python basic Assigment_22.ipynb',\n",
       " 'python basic Assigment_3.ipynb',\n",
       " 'python basic Assigment_4.ipynb',\n",
       " 'python basic Assigment_5.ipynb',\n",
       " 'python basic Assigment_6.ipynb',\n",
       " 'python basic Assigment_7.ipynb',\n",
       " 'python basic Assigment_8.ipynb',\n",
       " 'python basic Assigment_9.ipynb',\n",
       " 'quotes.csv',\n",
       " 'Rathan Tata',\n",
       " 'Recent',\n",
       " 'rotated180.png',\n",
       " 'rotated270.png',\n",
       " 'rotated90.png',\n",
       " 'SAMPLE.osp',\n",
       " 'SAMPLE_assets',\n",
       " 'Saved Games',\n",
       " 'Searches',\n",
       " 'SendTo',\n",
       " 'slokas.osp',\n",
       " 'slokas_assets',\n",
       " 'slokas_skit.osp',\n",
       " 'slokas_skit_assets',\n",
       " 'Start Menu',\n",
       " 'sudh.txt',\n",
       " 'Templates',\n",
       " 'test.100.txt',\n",
       " 'test.txt',\n",
       " 'test123.json',\n",
       " 'test2.text',\n",
       " 'test3.text',\n",
       " 'test5.txt',\n",
       " 'test9.text',\n",
       " 'text.txt',\n",
       " 'text10.txt',\n",
       " 'text3.txt',\n",
       " 'text6.txt',\n",
       " 'textfile.txt',\n",
       " 'tiled.png',\n",
       " 'today.txt',\n",
       " 'TW1GSrT.png',\n",
       " 'Untitled.ipynb',\n",
       " 'Untitled1.ipynb',\n",
       " 'Untitled10.ipynb',\n",
       " 'Untitled11.ipynb',\n",
       " 'Untitled12.ipynb',\n",
       " 'Untitled13.ipynb',\n",
       " 'Untitled14.ipynb',\n",
       " 'Untitled15.ipynb',\n",
       " 'Untitled16.ipynb',\n",
       " 'Untitled17.ipynb',\n",
       " 'Untitled18.ipynb',\n",
       " 'Untitled19.ipynb',\n",
       " 'Untitled2.ipynb',\n",
       " 'Untitled20.ipynb',\n",
       " 'Untitled21.ipynb',\n",
       " 'Untitled22.ipynb',\n",
       " 'Untitled23.ipynb',\n",
       " 'Untitled24.ipynb',\n",
       " 'Untitled25.ipynb',\n",
       " 'Untitled26.ipynb',\n",
       " 'Untitled27.ipynb',\n",
       " 'Untitled28.ipynb',\n",
       " 'Untitled29.ipynb',\n",
       " 'Untitled3.ipynb',\n",
       " 'Untitled30.ipynb',\n",
       " 'Untitled31.ipynb',\n",
       " 'Untitled32.ipynb',\n",
       " 'Untitled33.ipynb',\n",
       " 'Untitled34.ipynb',\n",
       " 'Untitled35.ipynb',\n",
       " 'Untitled36.ipynb',\n",
       " 'Untitled37.ipynb',\n",
       " 'Untitled38.ipynb',\n",
       " 'Untitled4.ipynb',\n",
       " 'Untitled5.ipynb',\n",
       " 'Untitled6.ipynb',\n",
       " 'Untitled7.ipynb',\n",
       " 'Untitled8.ipynb',\n",
       " 'Untitled9.ipynb',\n",
       " 'Videos',\n",
       " 'ython basic Assigment_11.ipynb',\n",
       " 'zoo.py',\n",
       " '__pycache__']"
      ]
     },
     "execution_count": 11,
     "metadata": {},
     "output_type": "execute_result"
    }
   ],
   "source": [
    "\"\"\"4. List the files in your current directory\"\"\"\n",
    "\n",
    "import os\n",
    "os.listdir('.')"
   ]
  },
  {
   "cell_type": "code",
   "execution_count": 29,
   "id": "7c941524",
   "metadata": {},
   "outputs": [
    {
     "ename": "NameError",
     "evalue": "name 'details' is not defined",
     "output_type": "error",
     "traceback": [
      "\u001b[1;31m---------------------------------------------------------------------------\u001b[0m",
      "\u001b[1;31mNameError\u001b[0m                                 Traceback (most recent call last)",
      "Input \u001b[1;32mIn [29]\u001b[0m, in \u001b[0;36m<cell line: 3>\u001b[1;34m()\u001b[0m\n\u001b[0;32m      1\u001b[0m \u001b[38;5;124;03m\"\"\"5. Create a list of all of the files in your parent directory (minimum five files should be available).\"\"\"\u001b[39;00m\n\u001b[1;32m----> 3\u001b[0m \u001b[38;5;28mlist\u001b[39m(\u001b[43mdetails\u001b[49m)\n",
      "\u001b[1;31mNameError\u001b[0m: name 'details' is not defined"
     ]
    }
   ],
   "source": [
    "\"\"\"5. Create a list of all of the files in your parent directory (minimum five files should be available).\"\"\"\n",
    "\n",
    "list(details)"
   ]
  },
  {
   "cell_type": "code",
   "execution_count": 30,
   "id": "778b1d58",
   "metadata": {},
   "outputs": [],
   "source": [
    "\"\"\"6. Use multiprocessing to create three separate processes. Make each one wait a random number of\n",
    "seconds between one and five, print the current time, and then exit.\"\"\"\n",
    "\n",
    "\n",
    "import multiprocessing\n",
    "\n",
    "def printsec(seconds):\n",
    "    from datetime import datetime\n",
    "    from time import sleep\n",
    "    sleep(seconds)\n",
    "    print('wait', seconds, 'seconds, time is', datetime.utcnow())\n",
    "    \n",
    "if __name__ == '__main__':\n",
    "    import random    \n",
    "    for n in range(3):\n",
    "        seconds = random.random()\n",
    "        proc = multiprocessing.Process(target=printsec, args=(seconds,))\n",
    "        proc.start()\n",
    "\n"
   ]
  },
  {
   "cell_type": "code",
   "execution_count": 31,
   "id": "c6c7b043",
   "metadata": {},
   "outputs": [
    {
     "data": {
      "text/plain": [
       "datetime.date(1996, 3, 5)"
      ]
     },
     "execution_count": 31,
     "metadata": {},
     "output_type": "execute_result"
    }
   ],
   "source": [
    "\"\"\"7. Create a date object of your day of birth.\"\"\"\n",
    "\n",
    "\n",
    "my_dob = date(1996,3,5)\n",
    "my_dob"
   ]
  },
  {
   "cell_type": "code",
   "execution_count": 32,
   "id": "40a1127d",
   "metadata": {},
   "outputs": [
    {
     "data": {
      "text/plain": [
       "1"
      ]
     },
     "execution_count": 32,
     "metadata": {},
     "output_type": "execute_result"
    }
   ],
   "source": [
    "\"\"\"8. What day of the week was your day of birth?\"\"\"\n",
    "my_dob.weekday()"
   ]
  },
  {
   "cell_type": "code",
   "execution_count": 19,
   "id": "6328cc2d",
   "metadata": {},
   "outputs": [
    {
     "data": {
      "text/plain": [
       "datetime.date(2023, 9, 19)"
      ]
     },
     "execution_count": 19,
     "metadata": {},
     "output_type": "execute_result"
    }
   ],
   "source": [
    "\"\"\"9. When will you be (or when were you) 10,000 days old?\"\"\"\n",
    "\n",
    "from datetime import timedelta\n",
    "day10000 = my_dob + timedelta(days=10000)\n",
    "day10000"
   ]
  },
  {
   "cell_type": "code",
   "execution_count": null,
   "id": "1157acf5",
   "metadata": {},
   "outputs": [],
   "source": []
  }
 ],
 "metadata": {
  "kernelspec": {
   "display_name": "Python 3 (ipykernel)",
   "language": "python",
   "name": "python3"
  },
  "language_info": {
   "codemirror_mode": {
    "name": "ipython",
    "version": 3
   },
   "file_extension": ".py",
   "mimetype": "text/x-python",
   "name": "python",
   "nbconvert_exporter": "python",
   "pygments_lexer": "ipython3",
   "version": "3.9.12"
  }
 },
 "nbformat": 4,
 "nbformat_minor": 5
}
