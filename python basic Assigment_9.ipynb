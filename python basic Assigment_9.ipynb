{
 "cells": [
  {
   "cell_type": "code",
   "execution_count": 1,
   "id": "01b134ff",
   "metadata": {},
   "outputs": [
    {
     "name": "stdout",
     "output_type": "stream",
     "text": [
      "Desktop\\code\\pyt\\database\n"
     ]
    }
   ],
   "source": [
    "# 1. To what does a relative path refer?\n",
    "\n",
    "\"\"\"A relative path refers to a location that is relative to a current directory. \n",
    "Relative paths make use of two special symbols, a dot (.) and a double-dot (..), \n",
    "which translate into the current directory and the parent directory. \n",
    "Double dots are used for moving up in the hierarchy.\"\"\"\n",
    "\n",
    "\n",
    "import os\n",
    "\n",
    "path = \"/Users/krunal/Desktop/code/pyt/database\"\n",
    "  \n",
    "start = \"/Users/krunal\"\n",
    "\n",
    "relative_path = os.path.relpath(path, start)\n",
    "\n",
    "print(relative_path)"
   ]
  },
  {
   "cell_type": "code",
   "execution_count": null,
   "id": "e3081bbf",
   "metadata": {},
   "outputs": [],
   "source": [
    "# 2. What does an absolute path start with your operating system?\n",
    "\n",
    "\n",
    "An absolute path refers to the complete details needed to locate a file or folder, \n",
    "starting from the root element and ending with the other subdirectories.\n",
    "Absolute paths are used in websites and operating systems for locating files and folders.\n",
    "\n",
    "An absolute path is also known as an absolute pathname or full path.\n",
    "\n",
    "Example:\n",
    "    C:\\Users\\SVKUSER\\PycharmProjects\\pythonprojectWithMySql\n",
    "        \n",
    "        \n",
    "        This is my absolute path in my operting system\n",
    "\n"
   ]
  },
  {
   "cell_type": "code",
   "execution_count": null,
   "id": "2cd923f3",
   "metadata": {},
   "outputs": [],
   "source": [
    "# 3. What do the functions os.getcwd() and os.chdir() do?\n",
    "\n",
    "#  os.getcwd()\n",
    "The os.getcwd() method is used to get the current working directory of a process.\n",
    "Somewhere in your script, you can add this function \n",
    "anytime you wish to know or get the directory of an operation currently being carried out.\n",
    "\n",
    "\n",
    "This os.chdir() method changes the current working directory to a specified path instance. It does not return any value.\n",
    "\n",
    "Syntax:\n",
    "    os.getcwd()\n",
    "\n",
    "    \n",
    "# os.chdir()\n",
    "\n",
    "This os.chdir() method changes the current working directory\n",
    "to a specified path instance. It does not return any value.\n",
    "\n",
    "Syntax:\n",
    "    os.chdir()\n"
   ]
  },
  {
   "cell_type": "code",
   "execution_count": 2,
   "id": "8509d1c6",
   "metadata": {},
   "outputs": [
    {
     "name": "stdout",
     "output_type": "stream",
     "text": [
      "The Current working directory is : C:\\Users\\SVKUSER\n"
     ]
    }
   ],
   "source": [
    "###\n",
    "# This program will return the CWD\n",
    "        \n",
    "# The os module is imported to enable use of os methods\n",
    "\n",
    "import os \n",
    "    \n",
    "#This line gets the current working directory (CWD)\n",
    "\n",
    "directory = os.getcwd() \n",
    "    \n",
    "# Output the current working directory (CWD) to screen \n",
    "\n",
    "print(\"The Current working directory is :\", directory) "
   ]
  },
  {
   "cell_type": "code",
   "execution_count": 30,
   "id": "975495ea",
   "metadata": {},
   "outputs": [
    {
     "name": "stdout",
     "output_type": "stream",
     "text": [
      "Current directory: Before= {dirctory}\n",
      "Current working directory: After= {dirctory}\n"
     ]
    }
   ],
   "source": [
    "# os.chdir()\n",
    "import os\n",
    "# Get current working directory\n",
    "dirctory = os.getcwd()\n",
    "print(\"Current directory: Before= {dirctory}\")\n",
    "# Path to chnage\n",
    "path = \"C:/Users/SVKUSER/PycharmProjects/pythonprojectWithMySql\"\n",
    "# Change current working directory \n",
    "os.chdir(path)\n",
    "# Get current working directory again\n",
    "dirctory = os.getcwd()\n",
    "print(\"Current working directory: After= {dirctory}\")"
   ]
  },
  {
   "cell_type": "code",
   "execution_count": null,
   "id": "bd3f0165",
   "metadata": {},
   "outputs": [],
   "source": [
    "# 4. What are the . and .. folders?\n",
    "\n",
    "The . is the current directory. You rarely need to use this;\n",
    "most commands will assume the current directory. \n",
    "The .. is the next level up; this is a rather useful shortcut. \n",
    "If you are in C:\\foo\\bar and you want to go to C:\\foo\\bar2 you can say\n",
    "        \n",
    "        \n",
    "        The . is the current directory, while .. signifies the parent directory.\n",
    "        It makes things quicker at the command line as well so you don't need to type out full paths.\n",
    "\n"
   ]
  },
  {
   "cell_type": "code",
   "execution_count": null,
   "id": "553d5dcc",
   "metadata": {},
   "outputs": [],
   "source": [
    "#5.In C:\\bacon\\eggs\\spam.txt, which part is the dir name, and which part is the base name?\n",
    "\n",
    "C:\\bacon\\eggs is the dir name, \n",
    "and spam.txt is the base name."
   ]
  },
  {
   "cell_type": "code",
   "execution_count": null,
   "id": "b557afb4",
   "metadata": {},
   "outputs": [],
   "source": [
    "# 6. What are the three “mode” arguments that can be passed to the open() function?\n",
    "\n",
    "The Three string are:\n",
    "'r' for read mode, \n",
    "'w' for write mode, \n",
    "'a' for append mode\n"
   ]
  },
  {
   "cell_type": "code",
   "execution_count": null,
   "id": "a98d79cb",
   "metadata": {},
   "outputs": [],
   "source": [
    "# 7. What happens if an existing file is opened in write mode?\n",
    "\n",
    "An existing file opened in write mode is erased and completely overwritten by the new one."
   ]
  },
  {
   "cell_type": "code",
   "execution_count": null,
   "id": "2de0fce9",
   "metadata": {},
   "outputs": [],
   "source": [
    "# 8. How do you tell the difference between read() and readlines()?\n",
    "\n",
    "\n",
    "\n",
    "The read() method returns the file's entire contents as a single string value.\n",
    "The readlines() method returns a list of strings, \n",
    "where each string is a line from the file's contents.\n"
   ]
  },
  {
   "cell_type": "code",
   "execution_count": null,
   "id": "57204e33",
   "metadata": {},
   "outputs": [],
   "source": [
    "# 9. What data structure does a shelf value resemble?\n",
    "\n",
    "A shelf value resembles a dictionary value; \n",
    "it has keys and values, along with keys() and values() \n",
    "methods that work similarly to the dictionary methods of the same names.\n",
    "\n"
   ]
  }
 ],
 "metadata": {
  "kernelspec": {
   "display_name": "Python 3 (ipykernel)",
   "language": "python",
   "name": "python3"
  },
  "language_info": {
   "codemirror_mode": {
    "name": "ipython",
    "version": 3
   },
   "file_extension": ".py",
   "mimetype": "text/x-python",
   "name": "python",
   "nbconvert_exporter": "python",
   "pygments_lexer": "ipython3",
   "version": "3.9.12"
  }
 },
 "nbformat": 4,
 "nbformat_minor": 5
}
