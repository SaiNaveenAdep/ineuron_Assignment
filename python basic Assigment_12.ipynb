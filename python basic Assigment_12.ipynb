{
 "cells": [
  {
   "cell_type": "code",
   "execution_count": null,
   "id": "56742b3d",
   "metadata": {},
   "outputs": [],
   "source": [
    "# 1. In what modes should the PdfFileReader() and PdfFileWriter() File objects will be opened?\n",
    "\n",
    "These files will be opened in binary mode., read binary (rb) \n",
    "for PdfFileREader() and \n",
    "write binary (wb) PdfFileWriter()\n",
    "\n"
   ]
  },
  {
   "cell_type": "code",
   "execution_count": 3,
   "id": "97756093",
   "metadata": {},
   "outputs": [
    {
     "name": "stdout",
     "output_type": "stream",
     "text": [
      "Requirement already satisfied: PyPDF2 in c:\\users\\svkuser\\anaconda3\\lib\\site-packages (2.6.0)\n",
      "Requirement already satisfied: typing-extensions in c:\\users\\svkuser\\anaconda3\\lib\\site-packages (from PyPDF2) (4.1.1)\n"
     ]
    }
   ],
   "source": [
    "!pip install PyPDF2\n"
   ]
  },
  {
   "cell_type": "code",
   "execution_count": null,
   "id": "7b2f6b7e",
   "metadata": {},
   "outputs": [],
   "source": [
    "# 2. From a PdfFileReader object, how do you get a Page object for page 5?\n",
    "\n",
    "(ANS)-> \n",
    "        Calling getPage(4) will return a Page object for page 5 since page 0 is the first page\n",
    "\n"
   ]
  },
  {
   "cell_type": "code",
   "execution_count": null,
   "id": "57e1297d",
   "metadata": {},
   "outputs": [],
   "source": [
    "import PyPDF2 as pdf\n",
    "pdfFileObj = open(\"Bhagavathgeetha.pdf\",'rb')\n",
    "pdfReader = pdf.PdfFileReader(pdfFileObj)\n",
    "pageObj = pdfReader.getPage(4)\n",
    "pageObj.extractText()"
   ]
  },
  {
   "cell_type": "code",
   "execution_count": 14,
   "id": "421e6444",
   "metadata": {},
   "outputs": [],
   "source": [
    "#3. What PdfFileReader variable stores the number of pages in the PDF document?\n",
    "\n",
    "import PyPDF2 as pdf\n",
    "pdfFileObj = open(\"cardealer.pdf\",'rb')\n",
    "pdfReader = pdf.PdfFileReader(pdfFileObj)\n",
    "pdfReader.numPages\n",
    "\n"
   ]
  },
  {
   "cell_type": "code",
   "execution_count": null,
   "id": "127bc5a7",
   "metadata": {},
   "outputs": [],
   "source": [
    "\"\"\"4. If a PdfFileReader object’s PDF is encrypted with the password swordfish, what must you do\n",
    "before you can obtain Page objects from it?\"\"\"\n",
    "\n",
    "\n",
    "(Ans)->\n",
    "       Before we obtain the page object, the pdf has to be decrypted by calling .decrypt('swordfish')\n",
    "    \n",
    "    "
   ]
  },
  {
   "cell_type": "code",
   "execution_count": null,
   "id": "cd8798e2",
   "metadata": {},
   "outputs": [],
   "source": [
    "# 5. What methods do you use to rotate a page?\n",
    "\n",
    "#pageObj.rotateClockwise(90)\n",
    "\n",
    "The rotateClockwise() and rotateCounterClockwise() methods. \n",
    "\n",
    "The degrees to rotate is passed as an integer argument\n",
    "\n"
   ]
  },
  {
   "cell_type": "code",
   "execution_count": null,
   "id": "1437a7e9",
   "metadata": {},
   "outputs": [],
   "source": [
    "# 6. What is the difference between a Run object and a Paragraph object?\n",
    "\n",
    "\n",
    "(Ans)->\n",
    "        Run Objects      : Runs are contiguous groups of characters within a paragraph with the same style\n",
    "        Paragraph Object : A document contains multiple paragraphs. \n",
    "                           A paragraph begins on a new line and contains multiple runs. \n",
    "                           The Document object contains a list of Paragraph objects for the paragraphs in the document. \n",
    "                           (A new paragraph begins whenever the user presses ENTER or RETURN while typing in a Word document.)\n"
   ]
  },
  {
   "cell_type": "code",
   "execution_count": 18,
   "id": "8fa87343",
   "metadata": {},
   "outputs": [
    {
     "data": {
      "text/plain": [
       "'7. How do you obtain a list of Paragraph objects for a Document object that’s stored in a variable\\nnamed doc?'"
      ]
     },
     "execution_count": 18,
     "metadata": {},
     "output_type": "execute_result"
    }
   ],
   "source": [
    "\"\"\"7. How do you obtain a list of Paragraph objects for a Document object that’s stored in a variable\n",
    "named doc?\"\"\"\n",
    "\n",
    "pip install python-docx\n",
    "import docx\n",
    "doc = docx.Document(\"abc.docx\")\n",
    "doc.paragraphs\n",
    "#By using doc.paragraphs\n",
    "\n"
   ]
  },
  {
   "cell_type": "code",
   "execution_count": null,
   "id": "b06b85a7",
   "metadata": {},
   "outputs": [],
   "source": [
    "# 8. What type of object has bold, underline, italic, strike, and outline variables?\n",
    "\n",
    "(Ans)->\n",
    "        A Run object has bold, underline,italic,strike and outline variables"
   ]
  },
  {
   "cell_type": "code",
   "execution_count": null,
   "id": "ea2cdafc",
   "metadata": {},
   "outputs": [],
   "source": [
    "# 9. What is the difference between False, True, and None for the bold variable?\n",
    "\n",
    "(Ans)->\n",
    "        True always makes the Run object bolded and \n",
    "        False makes it always not bolded, no matter what the style’s bold setting is. \n",
    "        None will make the Run object just use the style’s bold setting\n",
    "        \n",
    "        "
   ]
  },
  {
   "cell_type": "code",
   "execution_count": null,
   "id": "f1e1e5ab",
   "metadata": {},
   "outputs": [],
   "source": [
    "# 10. How do you create a Document object for a new Word document?\n",
    "(Ans)->\n",
    "\n",
    "        By Calling the docx.Document() function. we can create a Document object for a new word document!\n",
    "    \n",
    "    "
   ]
  },
  {
   "cell_type": "code",
   "execution_count": 20,
   "id": "e9f672bc",
   "metadata": {},
   "outputs": [],
   "source": [
    "\"\"\"11. How do you add a paragraph with the text &#39;Hello, there!&#39; to a Document object stored in a\n",
    "variable named doc?\"\"\"\n",
    "\n",
    "\n",
    "import docx\n",
    "doc = docx.Document()\n",
    "\n",
    "doc.add_paragraph('Hello there!')\n",
    "doc.save('hellothere.docx')\n",
    "\n"
   ]
  },
  {
   "cell_type": "code",
   "execution_count": null,
   "id": "672ef00d",
   "metadata": {},
   "outputs": [],
   "source": [
    "#12. What integers represent the levels of headings available in Word documents?\n",
    "\n",
    "(Ans)-> \n",
    "        integer from 0 to 4\n",
    "        The arguments to add_heading() are a string of the heading text and an integer from 0 to 4. \n",
    "        The integer 0 makes the heading the Title style, \n",
    "        which is used for the top of the document. \n",
    "        Integers 1 to 4 are for various heading levels, with 1 being the main heading and 4 the lowest subheading\n",
    "        \n",
    "        "
   ]
  },
  {
   "cell_type": "code",
   "execution_count": null,
   "id": "e0a3c684",
   "metadata": {},
   "outputs": [],
   "source": []
  }
 ],
 "metadata": {
  "kernelspec": {
   "display_name": "Python 3 (ipykernel)",
   "language": "python",
   "name": "python3"
  },
  "language_info": {
   "codemirror_mode": {
    "name": "ipython",
    "version": 3
   },
   "file_extension": ".py",
   "mimetype": "text/x-python",
   "name": "python",
   "nbconvert_exporter": "python",
   "pygments_lexer": "ipython3",
   "version": "3.9.12"
  }
 },
 "nbformat": 4,
 "nbformat_minor": 5
}
