{
 "cells": [
  {
   "cell_type": "code",
   "execution_count": null,
   "id": "d0ea0e91",
   "metadata": {},
   "outputs": [],
   "source": [
    "# 1. What exactly is []?\n",
    "\n",
    "This is a empty list value, use to store  value in it! these value's are known as list"
   ]
  },
  {
   "cell_type": "code",
   "execution_count": 13,
   "id": "af33ee5b",
   "metadata": {},
   "outputs": [
    {
     "data": {
      "text/plain": [
       "'l'"
      ]
     },
     "execution_count": 13,
     "metadata": {},
     "output_type": "execute_result"
    }
   ],
   "source": [
    "# 2. In a list of values stored in a variable called spam, how would you assign the value 'hello'; as the\n",
    "#third value? (Assume [2, 4, 6, 8, 10] are in spam.)\n",
    "\n",
    "Let's pretend the spam includes the list ['a','b','c','d'] for the next three queries.\n",
    "\n",
    "spam ='hello'\n",
    "spam[2]\n",
    "\n",
    "here in the list the count start's from the binary vaue 0\n",
    "so a we assign the value 2 so the count is like 0,1,2 so total number of count is 3 in including 0\n"
   ]
  },
  {
   "cell_type": "code",
   "execution_count": 21,
   "id": "1b0cc729",
   "metadata": {},
   "outputs": [
    {
     "data": {
      "text/plain": [
       "'d'"
      ]
     },
     "execution_count": 21,
     "metadata": {},
     "output_type": "execute_result"
    }
   ],
   "source": [
    "# 3. What is the value of spam[int(int(&#39;3&#39; * 2) / 11)]?\n",
    "\n",
    "spam=['a','b','c','d']\n",
    "spam[int(int('3' * 2) / 11)]\n",
    "\n",
    "from this we come to know that int(\"3\"*2) we get \"33\" beacuse number 3 is in \"string\" \"3\" so its perform\n",
    "the repeate the number 2 times so  it becomes \"33\"\n",
    "\n",
    "int(\"3\"*2)/11\n",
    "\n",
    "by using int \"33\" is converted to 33 and divided by 11 the result is 3.0\n",
    "\n",
    "to avoid float point we again use int to get perfect integer now the value is 3\n",
    "\n",
    "so int(int('3' * 2) / 11) is 3\n",
    "\n",
    "spam[int(int('3' * 2) / 11)]\n",
    "\n",
    "out put :\n",
    "    \n",
    "    'd'\n",
    "\n",
    "\n",
    "\n"
   ]
  },
  {
   "cell_type": "code",
   "execution_count": 39,
   "id": "9ce481a4",
   "metadata": {},
   "outputs": [
    {
     "data": {
      "text/plain": [
       "'d'"
      ]
     },
     "execution_count": 39,
     "metadata": {},
     "output_type": "execute_result"
    }
   ],
   "source": [
    "spam=['a','b','c','d']\n",
    "spam[int(int(\"3\"*2)/11)]"
   ]
  },
  {
   "cell_type": "code",
   "execution_count": 41,
   "id": "fa0a709d",
   "metadata": {},
   "outputs": [
    {
     "data": {
      "text/plain": [
       "'d'"
      ]
     },
     "execution_count": 41,
     "metadata": {},
     "output_type": "execute_result"
    }
   ],
   "source": [
    "# 4. What is the value of spam[-1]?\n",
    "\n",
    "spam=['a','b','c','d']\n",
    "spam[-1]\n",
    "\n",
    "out put:\n",
    "    'd'\n",
    "    \n",
    "EXAMPLE:\n",
    "    spam=['a','b','c','d']\n",
    "          -4   -3  -2  -1 \n",
    "        \n",
    "    because the value in the list is pointing -(ve) so that the pointer start from reverse direction"
   ]
  },
  {
   "cell_type": "code",
   "execution_count": 66,
   "id": "3e91dc1a",
   "metadata": {},
   "outputs": [
    {
     "data": {
      "text/plain": [
       "['a', 'b']"
      ]
     },
     "execution_count": 66,
     "metadata": {},
     "output_type": "execute_result"
    }
   ],
   "source": [
    "#5. What is the value of spam[:2]?\n",
    "\n",
    "spam=['a','b','c','d']\n",
    "spam[:2]\n",
    "\n",
    "The out put is ['a','b'] because the endpoint is 2 there is no upperbond and jump it consider from starting position in \n",
    "list to the end point is 2\n",
    "\n"
   ]
  },
  {
   "cell_type": "code",
   "execution_count": 73,
   "id": "07e501f7",
   "metadata": {},
   "outputs": [
    {
     "data": {
      "text/plain": [
       "1"
      ]
     },
     "execution_count": 73,
     "metadata": {},
     "output_type": "execute_result"
    }
   ],
   "source": [
    "# Let;s pretend bacon has the list [3.14, 'cat', 11, 'cat', True] for the next three questions.\n",
    "# 6. What is the value of bacon.index('cat')?\n",
    "\n",
    "bacon =[3.14, 'cat', 11, 'cat', True]\n",
    "bacon.index('cat')\n",
    "\n",
    "list always starts from 0\n",
    "\n",
    "output:\n",
    "    1\n"
   ]
  },
  {
   "cell_type": "code",
   "execution_count": 84,
   "id": "3474c9d6",
   "metadata": {},
   "outputs": [],
   "source": [
    "# 7. How does bacon.append(99) change the look of the list value in bacon?\n",
    "\n",
    "bacon = [3.14, 'cat', 11, 'cat', True]\n",
    "bacon.append(99) \n",
    "\n",
    "by using append operator it's add value at the last in the list"
   ]
  },
  {
   "cell_type": "code",
   "execution_count": 85,
   "id": "08e72230",
   "metadata": {},
   "outputs": [
    {
     "data": {
      "text/plain": [
       "[3.14, 'cat', 11, 'cat', True, 99]"
      ]
     },
     "execution_count": 85,
     "metadata": {},
     "output_type": "execute_result"
    }
   ],
   "source": [
    "bacon"
   ]
  },
  {
   "cell_type": "code",
   "execution_count": 86,
   "id": "601f5365",
   "metadata": {},
   "outputs": [],
   "source": [
    "# 8. How does bacon.remove('cat') change the look of the list in bacon?\n",
    "\n",
    "bacon = [3.14, 'cat', 11, 'cat', True]\n",
    "bacon.append(99) \n",
    "\n",
    "remove operator removes the string which is at the first retating string"
   ]
  },
  {
   "cell_type": "code",
   "execution_count": 87,
   "id": "8dadd585",
   "metadata": {},
   "outputs": [
    {
     "data": {
      "text/plain": [
       "[3.14, 'cat', 11, 'cat', True, 99]"
      ]
     },
     "execution_count": 87,
     "metadata": {},
     "output_type": "execute_result"
    }
   ],
   "source": [
    "bacon"
   ]
  },
  {
   "cell_type": "code",
   "execution_count": 88,
   "id": "1a0fd273",
   "metadata": {},
   "outputs": [],
   "source": [
    "bacon.remove('cat')"
   ]
  },
  {
   "cell_type": "code",
   "execution_count": 89,
   "id": "bcf0a8b7",
   "metadata": {},
   "outputs": [
    {
     "data": {
      "text/plain": [
       "[3.14, 11, 'cat', True, 99]"
      ]
     },
     "execution_count": 89,
     "metadata": {},
     "output_type": "execute_result"
    }
   ],
   "source": [
    "bacon"
   ]
  },
  {
   "cell_type": "code",
   "execution_count": null,
   "id": "8c22257e",
   "metadata": {},
   "outputs": [],
   "source": [
    "# 9. What are the list concatenation and list replication operators?\n",
    "\n",
    "The operator for list concatenation is + \n",
    "The operator for List replication is * \n",
    "(This is the same as for strings) as well"
   ]
  },
  {
   "cell_type": "code",
   "execution_count": null,
   "id": "c194773c",
   "metadata": {},
   "outputs": [],
   "source": [
    "# 10. What is difference between the list methods append() and insert()?\n",
    "\n",
    "The append() will add values only to the end of a list,\n",
    "The insert() can add items or values at anywhere in the list."
   ]
  },
  {
   "cell_type": "code",
   "execution_count": null,
   "id": "e486f4ff",
   "metadata": {},
   "outputs": [],
   "source": [
    "# 11. What are the two methods for removing items from a list?\n",
    "\n",
    "The del statement and the remove() \n",
    "list method are two ways to remove values from a list."
   ]
  },
  {
   "cell_type": "code",
   "execution_count": null,
   "id": "72662348",
   "metadata": {},
   "outputs": [],
   "source": [
    "# 12. Describe how list values and string values are identical.\n",
    "\n",
    "Both lists and strings can be passed to len(), \n",
    "perform indexes and slices operation, \n",
    "be used in for loops,\n",
    "be concatenated or replicated, \n",
    "and be used with the in and not in operators."
   ]
  },
  {
   "cell_type": "code",
   "execution_count": null,
   "id": "0e742ea1",
   "metadata": {},
   "outputs": [],
   "source": [
    "# 13. What's the difference between tuples and lists?\n",
    "\n",
    "Lists are mutable they can have values added, removed, or changed. \n",
    "Tuples are immutable they cannot be changed at all. \n",
    "Also, tuples are written using parentheses (  ) \n",
    "while lists use the square brackets, [  ]."
   ]
  },
  {
   "cell_type": "code",
   "execution_count": null,
   "id": "d6664f2f",
   "metadata": {},
   "outputs": [],
   "source": [
    "# 14. How do you type a tuple value that only contains the integer 42?\n",
    "\n",
    "\n",
    "t= (42,) (comma is mandatory)\n",
    "\n",
    "EXAMPLE:\n",
    "    t=(42,3,42,5,)"
   ]
  },
  {
   "cell_type": "code",
   "execution_count": null,
   "id": "f6d5eeb3",
   "metadata": {},
   "outputs": [],
   "source": [
    "# 15. How do you get a list value's tuple form? How do you get a tuple value's list form?\n",
    "\n",
    "\n",
    "By using \n",
    "\n",
    "tuple() \n",
    "list() functions, \n",
    "respectively"
   ]
  },
  {
   "cell_type": "code",
   "execution_count": null,
   "id": "84c0a900",
   "metadata": {},
   "outputs": [],
   "source": [
    "# 16. Variables that 'contain' list values are not necessarily lists themselves. Instead, what do they\n",
    "#contain?\n",
    "\n",
    "\"c o n t a i n\"\n",
    "\n",
    "    \n",
    "They contain references to list values."
   ]
  },
  {
   "cell_type": "code",
   "execution_count": null,
   "id": "c3b003e7",
   "metadata": {},
   "outputs": [],
   "source": [
    "# 17. How do you distinguish between copy.copy() and copy.deepcopy()?\n",
    "\n",
    "The copy.copy() function will do a shallow copy of a list,\n",
    "while the copy.deepcopy() function will do a deep copy of a list. \n",
    "That is, only copy.deepcopy() will duplicate any lists inside the list.\n",
    "\n",
    "\n",
    "EXAMPLE:\n",
    "\n",
    "# ++++++++++++++++++++++++++++++++++++++++copy.copy()+++++++++++++++++++++++++++++++++++++++++++++++++\n",
    "import copy\n",
    "\n",
    "old_list = [[1, 1, 1], [2, 2, 2], [3, 3, 3]]\n",
    "new_list = copy.copy(old_list)\n",
    "\n",
    "old_list.append([4, 4, 4])\n",
    "\n",
    "print(\"Old list:\", old_list)\n",
    "print(\"New list:\", new_list)\n",
    "\n",
    "\n",
    "output:\n",
    "    Old list: [[1, 1, 1], [2, 2, 2], [3, 3, 3], [4, 4, 4]]\n",
    "    New list: [[1, 1, 1], [2, 2, 2], [3, 3, 3]]\n",
    "        \n",
    "# ++++++++++++++++++++++++++++++++++++++++ DEEP copy()++++++++++++++++++++++++++++++++++++++++++++++++\n",
    "\n",
    "import copy\n",
    "\n",
    "old_list = [[1, 1, 1], [2, 2, 2], [3, 3, 3]]\n",
    "new_list = copy.deepcopy(old_list)\n",
    "\n",
    "print(\"Old list:\", old_list)\n",
    "print(\"New list:\", new_list)\n",
    "\n",
    "output:\n",
    "    Old list: [[1, 1, 1], [2, 2, 2], [3, 3, 3]]\n",
    "    New list: [[1, 1, 1], [2, 2, 2], [3, 3, 3]]\n",
    "        \n",
    "        \n",
    "        \n",
    "        \n",
    "        \n",
    "\n",
    "\n",
    "\n"
   ]
  },
  {
   "cell_type": "code",
   "execution_count": null,
   "id": "8c04184e",
   "metadata": {},
   "outputs": [],
   "source": []
  }
 ],
 "metadata": {
  "kernelspec": {
   "display_name": "Python 3 (ipykernel)",
   "language": "python",
   "name": "python3"
  },
  "language_info": {
   "codemirror_mode": {
    "name": "ipython",
    "version": 3
   },
   "file_extension": ".py",
   "mimetype": "text/x-python",
   "name": "python",
   "nbconvert_exporter": "python",
   "pygments_lexer": "ipython3",
   "version": "3.9.12"
  }
 },
 "nbformat": 4,
 "nbformat_minor": 5
}
