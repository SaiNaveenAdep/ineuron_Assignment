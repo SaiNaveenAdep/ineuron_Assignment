{
 "cells": [
  {
   "cell_type": "markdown",
   "id": "1c40726f",
   "metadata": {},
   "source": [
    "## python basic Assigment_25"
   ]
  },
  {
   "cell_type": "code",
   "execution_count": 1,
   "id": "158460b8",
   "metadata": {},
   "outputs": [
    {
     "data": {
      "text/plain": [
       "[0, 1, 2, 3, 4, 5, 6, 7, 8, 9]"
      ]
     },
     "execution_count": 1,
     "metadata": {},
     "output_type": "execute_result"
    }
   ],
   "source": [
    "\"\"\"1. What is the difference between enclosing a list comprehension in square brackets and\n",
    "parentheses?\"\"\"\n",
    "\n",
    "\n",
    "lst = [i for i in range(10)]\n",
    "lst\n",
    "#List Comprehension with square brackets produces list.\n",
    "#List Comprehension with parentheses creates generators"
   ]
  },
  {
   "cell_type": "code",
   "execution_count": 2,
   "id": "27975816",
   "metadata": {},
   "outputs": [
    {
     "data": {
      "text/plain": [
       "<generator object <genexpr> at 0x00000144A40EC270>"
      ]
     },
     "execution_count": 2,
     "metadata": {},
     "output_type": "execute_result"
    }
   ],
   "source": [
    "#If you are familiar with list comprehensions, then this look likes it might create a tuple which is (1,2,3,4,....), \n",
    "#but it is actually a generator expression - this expression is a one time only iterator which will yield the values 1, 2, 3, 4.... in that order\n",
    "\n",
    "lstParanthesis = (i for i in range(10))\n",
    "lstParanthesis"
   ]
  },
  {
   "cell_type": "code",
   "execution_count": 3,
   "id": "b8a08123",
   "metadata": {},
   "outputs": [
    {
     "data": {
      "text/plain": [
       "[0, 1, 2, 3, 4, 5, 6, 7, 8, 9]"
      ]
     },
     "execution_count": 3,
     "metadata": {},
     "output_type": "execute_result"
    }
   ],
   "source": [
    "list(lstParanthesis)"
   ]
  },
  {
   "cell_type": "code",
   "execution_count": null,
   "id": "5f889be9",
   "metadata": {},
   "outputs": [],
   "source": [
    "\"\"\"2. What is the relationship between generators and iterators?\"\"\"\n",
    "\n",
    "Ans:\n",
    "\"\"\"An iterator is an object which contains a countable number of values and it is used to iterate over iterable objects \n",
    "like list, tuples etc Using an iterator- iter() keyword is used to create an iterator containing an iterable object. \n",
    "next() keyword is used to call the next element in the iterable object.\n",
    "\n",
    "Generator It is another way of creating iterators in a simple way where it uses the keyword “yield” \n",
    "instead of returning it in a defined function Generators are implemented using a function Here, \n",
    "the yield function returns the data without affecting or exiting the function. \n",
    "It will return a sequence of data in an iterable format \n",
    "where we need to iterate over the sequence to use the data as they won’t store the entire sequence in the memory\n",
    "By using next() function we can iterate the output of generator function\"\"\""
   ]
  },
  {
   "cell_type": "code",
   "execution_count": 4,
   "id": "ddc533bb",
   "metadata": {},
   "outputs": [
    {
     "name": "stdout",
     "output_type": "stream",
     "text": [
      "Dog\n",
      "CAt\n",
      "Bear\n"
     ]
    }
   ],
   "source": [
    "# iterator\n",
    "iter_list = iter(['Dog', 'CAt', 'Bear'])\n",
    "print(next(iter_list))\n",
    "print(next(iter_list))\n",
    "print(next(iter_list))"
   ]
  },
  {
   "cell_type": "code",
   "execution_count": 9,
   "id": "9af00c98",
   "metadata": {},
   "outputs": [],
   "source": [
    "# GEnerator \n",
    "\n",
    "def sq(n):\n",
    "    for i in range(1, n+1):\n",
    "        yield i*i"
   ]
  },
  {
   "cell_type": "code",
   "execution_count": 10,
   "id": "549a5e4b",
   "metadata": {},
   "outputs": [
    {
     "data": {
      "text/plain": [
       "<generator object sq at 0x00000144A5BF6E40>"
      ]
     },
     "execution_count": 10,
     "metadata": {},
     "output_type": "execute_result"
    }
   ],
   "source": [
    "sq(6)"
   ]
  },
  {
   "cell_type": "code",
   "execution_count": 12,
   "id": "4002b54d",
   "metadata": {},
   "outputs": [
    {
     "name": "stdout",
     "output_type": "stream",
     "text": [
      "1\n",
      "4\n",
      "9\n",
      "16\n"
     ]
    }
   ],
   "source": [
    "print(next(lst))\n",
    "print(next(lst))\n",
    "print(next(lst))\n",
    "print(next(lst))"
   ]
  },
  {
   "cell_type": "code",
   "execution_count": null,
   "id": "573589e8",
   "metadata": {},
   "outputs": [],
   "source": [
    "\"\"\"3. What are the signs that a function is a generator function?\"\"\"\n",
    "\n",
    "\n",
    "Ans:\n",
    "\"\"\"If a function contains at least one yield statement (it may contain other yield or return statements), \n",
    "it becomes a generator function. Both yield and return will return some value from a function.\"\"\""
   ]
  },
  {
   "cell_type": "code",
   "execution_count": null,
   "id": "a25341a9",
   "metadata": {},
   "outputs": [],
   "source": [
    "\"\"\"4. What is the purpose of a yield statement?\"\"\"\n",
    "\n",
    "Ans:\n",
    "\"\"\" A yield statement looks much like a return statement, \n",
    "except that instead of stopping execution of the function and returning, \n",
    "yield instead provides a value to the code looping over the generator and pauses execution of the generator function\"\"\""
   ]
  },
  {
   "cell_type": "code",
   "execution_count": null,
   "id": "f073186b",
   "metadata": {},
   "outputs": [],
   "source": [
    "\"\"\"5. What is the relationship between map calls and list comprehensions? Make a comparison and contrast between the two.\"\"\"\n",
    "\n",
    "Ans:\n",
    "    \"\"\"Map function: Suppose we have a function and we want to compute this function for different values in a single line of code . This is where map() function plays its role. map() function returns a map object(which is an iterator) of the results after applying the given function to each item of a given iterable (list, tuple etc.)\n",
    "\n",
    "If we already have a function defined, it is often good to use map For example, map(sum, myLists) is more neat than [sum(x) for x in myLists]. You gain the elegance of not having to make up a dummy variable (e.g. sum(x) for x... or sum() for ... or sum(readableName) for readableName...) which you have to type twice, just to iterate.\n",
    "\n",
    "List Comprehension: List Comprehension is a substitute for the lambda function, map(), filter() and reduce()\"\"\"\n",
    "\n",
    "Comparision :\n",
    "1.List comprehension is more concise and easier to read as compared to map\n",
    "\n",
    "2.List comprehension allows filtering. In map, we have no such facility \n",
    "For example, to print all even numbers in range of 100, we can write [n for n in range(100) if n%2 == 0]. There is no alternate for it in map\n",
    "\n",
    "3.List comprehension are used when a list of results is required,\n",
    "where as map only returns a map object and does not return any list.\n",
    "\n",
    "4.List comprehension is faster than map when we need to evaluate expressions that are too long or complicated to express\n",
    "\n",
    "5.Map is faster in case of calling an already defined function (as no lambda is required)"
   ]
  },
  {
   "cell_type": "code",
   "execution_count": null,
   "id": "28cfdc26",
   "metadata": {},
   "outputs": [],
   "source": []
  }
 ],
 "metadata": {
  "kernelspec": {
   "display_name": "Python 3 (ipykernel)",
   "language": "python",
   "name": "python3"
  },
  "language_info": {
   "codemirror_mode": {
    "name": "ipython",
    "version": 3
   },
   "file_extension": ".py",
   "mimetype": "text/x-python",
   "name": "python",
   "nbconvert_exporter": "python",
   "pygments_lexer": "ipython3",
   "version": "3.9.12"
  }
 },
 "nbformat": 4,
 "nbformat_minor": 5
}
