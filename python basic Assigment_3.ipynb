{
 "cells": [
  {
   "cell_type": "code",
   "execution_count": null,
   "id": "1343e2ae",
   "metadata": {},
   "outputs": [],
   "source": [
    "# 1.Why are functions advantageous to have in your programs?\n",
    "\n",
    "I think function are heart of the program \n",
    "when we write 100 lines of code in a python programming for a module so if we want to use the same module in the another\n",
    "one, functions are useful and we can use the same  module in   n number of times \n",
    "\n",
    "functiona are Reusable in the programming\n",
    "To avoid Dupliication in the code \n",
    "easy to read and understand"
   ]
  },
  {
   "cell_type": "code",
   "execution_count": null,
   "id": "958e11c1",
   "metadata": {},
   "outputs": [],
   "source": [
    "# 2. When does the code in a function run: when it's specified or when it's called?\n",
    "\n",
    "The code in a function run or execute when the function is called, not when the function is defined.\n"
   ]
  },
  {
   "cell_type": "code",
   "execution_count": null,
   "id": "7633aa06",
   "metadata": {},
   "outputs": [],
   "source": [
    "# 3. What statement creates a function?\n",
    "\n",
    "The def statement is used for creating a function.\n",
    "\n",
    "EXAMPLE:\n",
    "    \n",
    "def book(name):\n",
    "    print(\"Hello all My favourite book is: \" + name + \" writen by Jeff Keller\")\n",
    "book(\"'Attitude is Every Thing'\")\n",
    "\n",
    "out put:\n",
    "    \n",
    "    Hello all My favourite book is: 'Attitude is Every Thing' writen by Jeff Keller\n",
    "        \n",
    "       \n",
    "\n"
   ]
  },
  {
   "cell_type": "code",
   "execution_count": null,
   "id": "e6fba9aa",
   "metadata": {},
   "outputs": [],
   "source": [
    "# 4.What is the difference between a function and a function call?\n",
    "\n",
    "EXAMPLE:\n",
    "    \n",
    "# function\n",
    "def light(camera)\n",
    "This is a function with name \"light\" and parametor as \"camera\"\n",
    "\n",
    "# function call\n",
    "A function call is that to call the function to execute and the function call evaluates to the function's return value.\n",
    "\n",
    "\n"
   ]
  },
  {
   "cell_type": "code",
   "execution_count": null,
   "id": "b6a83066",
   "metadata": {},
   "outputs": [],
   "source": [
    "# 5. How many global scopes are there in a Python program? How many local scopes?\n",
    "\n",
    "There is one only global scope, and a local scope is created whenever a function is called."
   ]
  },
  {
   "cell_type": "code",
   "execution_count": null,
   "id": "cc6a60e5",
   "metadata": {},
   "outputs": [],
   "source": [
    "# 6. What happens to variables in a local scope when the function call returns?\n",
    "\n",
    "When the execution of the function returns or terminates , the local variables are destroyed. the local variables disappear after the function returns.\n"
   ]
  },
  {
   "cell_type": "code",
   "execution_count": null,
   "id": "3e60c9e7",
   "metadata": {},
   "outputs": [],
   "source": [
    "# 7. What is the concept of a return value? Is it possible to have a return value in an expression?\n",
    "\n",
    "A return  is use to return the value's that we have assigned, Like any value, A return value can be used as part of an expression."
   ]
  },
  {
   "cell_type": "code",
   "execution_count": null,
   "id": "2e438494",
   "metadata": {},
   "outputs": [],
   "source": [
    "# 8. If a function does not have a return statement, what is the return value of a call to that function?\n",
    "\n",
    "\n",
    "If there is no return statement for a function, its return value is None."
   ]
  },
  {
   "cell_type": "code",
   "execution_count": null,
   "id": "268cca6c",
   "metadata": {},
   "outputs": [],
   "source": [
    "# 9. How do you make a function variable refer to the global variable?\n",
    "\n",
    "A global statement will force a variable in a function to refer to the global variable.\n",
    "\n",
    "EXAMPLE:\n",
    "    \n",
    "def name():\n",
    "    s = \"Best platform for Data science\"\n",
    "    print(s)\n",
    "# Global scope\n",
    "s = \"ineuron is the best place for Data science course\"\n",
    "name()\n",
    "print(s)\n",
    "\n",
    "  output:\n",
    "        \n",
    "Best platform for Data science\n",
    "ineuron is the best place for Data science course\n"
   ]
  },
  {
   "cell_type": "code",
   "execution_count": null,
   "id": "f0c2c50f",
   "metadata": {},
   "outputs": [],
   "source": [
    "# 10. What is the data type of None?\n",
    "\n",
    "\n",
    "The data type of None is NoneType.\n",
    "\n",
    "Example:\n",
    "    \n",
    "    type(None)\n",
    "    \n",
    "    output:\n",
    "        NoneType\n",
    "    "
   ]
  },
  {
   "cell_type": "code",
   "execution_count": null,
   "id": "d017a3f6",
   "metadata": {},
   "outputs": [],
   "source": [
    "# 11. What does the sentence import areallyourpetsnamederic do?\n",
    "\n",
    "That import statement imports a module named areallyourpetsnamederic. \n",
    "(This isn't a real Python module.)\n"
   ]
  },
  {
   "cell_type": "code",
   "execution_count": null,
   "id": "bffa0906",
   "metadata": {},
   "outputs": [],
   "source": [
    "# 12. If you had a bacon() feature in a spam module, what would you call it after importing spam?\n",
    "\n",
    "This function can be called with spam.bacon().\n"
   ]
  },
  {
   "cell_type": "code",
   "execution_count": null,
   "id": "f293be5b",
   "metadata": {},
   "outputs": [],
   "source": [
    "# 13. What can you do to save a programme from crashing if it encounters an error?\n",
    "\n",
    "\n",
    "by using try: and except: method we can avoid error or skip the errors from \n",
    "        \n",
    "        programming crashing or encounters an error.\n"
   ]
  },
  {
   "cell_type": "code",
   "execution_count": null,
   "id": "268636e1",
   "metadata": {},
   "outputs": [],
   "source": [
    "# 14. What is the purpose of the try clause? What is the purpose of the except clause?\n",
    "\n",
    "\n",
    "The code that could  cause an error can be writen in the try clause.\n",
    "\n",
    "The code that executes if an error happens writen in the except clause.\n",
    "\n",
    "Example:\n",
    "    \n",
    "try:\n",
    "  print(x)\n",
    "except NameError:\n",
    "  print(\"Variable x is not defined\")\n",
    "except:\n",
    "  print(\"Something else went wrong\")\n",
    "\n",
    "output:\n",
    "    \n",
    "    Variable x is not defined"
   ]
  },
  {
   "cell_type": "code",
   "execution_count": 10,
   "id": "b1676d8d",
   "metadata": {},
   "outputs": [
    {
     "name": "stdout",
     "output_type": "stream",
     "text": [
      "Variable x is not defined\n"
     ]
    }
   ],
   "source": [
    "try:\n",
    "  print(x)\n",
    "except NameError:\n",
    "  print(\"Variable x is not defined\")\n",
    "except:\n",
    "  print(\"Something else went wrong\")"
   ]
  },
  {
   "cell_type": "code",
   "execution_count": null,
   "id": "29fa295a",
   "metadata": {},
   "outputs": [],
   "source": []
  }
 ],
 "metadata": {
  "kernelspec": {
   "display_name": "Python 3 (ipykernel)",
   "language": "python",
   "name": "python3"
  },
  "language_info": {
   "codemirror_mode": {
    "name": "ipython",
    "version": 3
   },
   "file_extension": ".py",
   "mimetype": "text/x-python",
   "name": "python",
   "nbconvert_exporter": "python",
   "pygments_lexer": "ipython3",
   "version": "3.9.12"
  }
 },
 "nbformat": 4,
 "nbformat_minor": 5
}
