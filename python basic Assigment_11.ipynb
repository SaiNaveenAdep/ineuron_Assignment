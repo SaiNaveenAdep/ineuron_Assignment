{
 "cells": [
  {
   "cell_type": "code",
   "execution_count": 2,
   "id": "f24b7196",
   "metadata": {},
   "outputs": [
    {
     "ename": "AssertionError",
     "evalue": "Invalid Operation",
     "output_type": "error",
     "traceback": [
      "\u001b[1;31m---------------------------------------------------------------------------\u001b[0m",
      "\u001b[1;31mAssertionError\u001b[0m                            Traceback (most recent call last)",
      "Input \u001b[1;32mIn [2]\u001b[0m, in \u001b[0;36m<cell line: 8>\u001b[1;34m()\u001b[0m\n\u001b[0;32m      6\u001b[0m x \u001b[38;5;241m=\u001b[39m \u001b[38;5;241m1\u001b[39m\n\u001b[0;32m      7\u001b[0m y \u001b[38;5;241m=\u001b[39m \u001b[38;5;241m-\u001b[39m\u001b[38;5;241m2\u001b[39m\n\u001b[1;32m----> 8\u001b[0m \u001b[38;5;28;01massert\u001b[39;00m y \u001b[38;5;241m==\u001b[39m \u001b[38;5;241m0\u001b[39m, \u001b[38;5;124m\"\u001b[39m\u001b[38;5;124mInvalid Operation\u001b[39m\u001b[38;5;124m\"\u001b[39m \u001b[38;5;66;03m# denominator can't be 0\u001b[39;00m\n\u001b[0;32m      9\u001b[0m \u001b[38;5;28mprint\u001b[39m(x \u001b[38;5;241m/\u001b[39m y)\n",
      "\u001b[1;31mAssertionError\u001b[0m: Invalid Operation"
     ]
    }
   ],
   "source": [
    "#1. Create an assert statement that throws an AssertionError if the variable spam is a negative\n",
    "#integer.\n",
    "\n",
    "\n",
    "(ANS)-> Assertion is a programming concept used while writing a code \n",
    "      where the user declares a condition to be true using assert statement\n",
    "      prior to running the module. \n",
    "      If the condition is True, \n",
    "      the control simply moves to the next line of code. \n",
    "      In case if it is False the program stops running and \n",
    "       returns AssertionError Exception. \n",
    "\n",
    "\n",
    "# AssertionError with error_message.\n",
    "x = 1\n",
    "y = -2\n",
    "assert y = 0, \"Invalid Operation\" # denominator can't be 0\n",
    "print(x / y)\n"
   ]
  },
  {
   "cell_type": "code",
   "execution_count": null,
   "id": "aca1b8f6",
   "metadata": {},
   "outputs": [],
   "source": [
    "\"\"\"2. Write an assert statement that triggers an AssertionError if the variables eggs and bacon contain\n",
    "strings that are the same as each other, even if their cases are different (that is, 'hello' and 'hello' are\n",
    "considered the same, and 'goodbye'and 'GOODbye' are also considered the same).\"\"\"\n",
    "\n",
    "\n",
    "(Ans)-> assert eggs.lower() != bacon.lower(), \n",
    "       'The eggs and bacon variables are the same!' \n",
    "        or assert eggs.upper() != bacon.upper(), \n",
    "       'The eggs and bacon variables are the same!'"
   ]
  },
  {
   "cell_type": "code",
   "execution_count": 6,
   "id": "b6d4005a",
   "metadata": {},
   "outputs": [
    {
     "ename": "AssertionError",
     "evalue": "",
     "output_type": "error",
     "traceback": [
      "\u001b[1;31m---------------------------------------------------------------------------\u001b[0m",
      "\u001b[1;31mAssertionError\u001b[0m                            Traceback (most recent call last)",
      "Input \u001b[1;32mIn [6]\u001b[0m, in \u001b[0;36m<cell line: 3>\u001b[1;34m()\u001b[0m\n\u001b[0;32m      1\u001b[0m \u001b[38;5;66;03m# 3. Create an assert statement that throws an AssertionError every time.\u001b[39;00m\n\u001b[1;32m----> 3\u001b[0m \u001b[38;5;28;01massert\u001b[39;00m \u001b[38;5;28;01mFalse\u001b[39;00m\n",
      "\u001b[1;31mAssertionError\u001b[0m: "
     ]
    }
   ],
   "source": [
    "# 3. Create an assert statement that throws an AssertionError every time.\n",
    "\n",
    "(Ans)->\n",
    "assert False\n"
   ]
  },
  {
   "cell_type": "code",
   "execution_count": null,
   "id": "6a922292",
   "metadata": {},
   "outputs": [],
   "source": [
    "# 4. What are the two lines that must be present in your software in order to call logging.debug()?\n",
    "\n",
    "To be able to call logging.debug(), you must have these two lines at the start of your program:\n",
    "\n",
    "import logging\n",
    "logging.basicConfig(level=logging.DEBUGING, formate=\"%(name)s,%(asctime)s,%(message)s,%(levelname)s\")"
   ]
  },
  {
   "cell_type": "code",
   "execution_count": 11,
   "id": "3b17e398",
   "metadata": {},
   "outputs": [],
   "source": [
    "\"\"\"5. What are the two lines that your program must have in order to have logging.debug() send a\n",
    "logging message to a file named programLog.txt?\"\"\"\n",
    "\n",
    "(Ans)--> logging program must have in order to have logging.debug() send a\n",
    "         logging message to a file named programLog.txt\n",
    "\n",
    "\n",
    "import logging\n",
    "logging.basicConfig(filename='programLog.txt', level=logging.DEBUG, format=\"%(name)s, %(asctime)s, %(message)s, %(levelname)s\")\n",
    "\n",
    "# which creates a text(txt) file named as programLog\n",
    "\n"
   ]
  },
  {
   "cell_type": "code",
   "execution_count": 9,
   "id": "37669e53",
   "metadata": {},
   "outputs": [],
   "source": [
    "#6. What are the five levels of logging?\n",
    "\n",
    "The five levels of logging are with there level of %:\n",
    "    \n",
    "    DEBUG     - 10%\n",
    "    INFO      - 20%\n",
    "    WARNING   - 30%\n",
    "    ERROR     - 40%\n",
    "    CRITICAL  - 50%"
   ]
  },
  {
   "cell_type": "code",
   "execution_count": 12,
   "id": "fced3e4b",
   "metadata": {},
   "outputs": [],
   "source": [
    "#7. What line of code would you add to your software to disable all logging messages?\n",
    "\n",
    "(Ans)-> The line of code would you add to your software to disable all logging messages\n",
    "\n",
    "logging.disable(logging.CRITICAL)\n",
    "\n"
   ]
  },
  {
   "cell_type": "code",
   "execution_count": null,
   "id": "ecfb80d7",
   "metadata": {},
   "outputs": [],
   "source": [
    "# 8.Why is using logging messages better than using print() to display the same message?\n",
    "\n",
    "we have three stages after in programming they are \n",
    "\n",
    "Coding \n",
    "Compiling\n",
    "Debugging\n",
    "              \n",
    "    we can write print() in coding no issues because we have interpretor in codeing but there will be a chance while compiling and debugging\n",
    "    there will be no interpreter to exeucte the print() statement so it cause defficult to under stand the code at 2nd and 3rd stage or even in 1st stage\n",
    "    so that the reson logging come into piture, so that the reason we using logging\n",
    "\n",
    "logging message is better than using print() and logging also timestamp.\n",
    "\n",
    "The the reason we using logging to display the print()statement\n",
    "\n",
    "\n"
   ]
  },
  {
   "cell_type": "code",
   "execution_count": null,
   "id": "c91e5e5f",
   "metadata": {},
   "outputs": [],
   "source": [
    "#9. What are the differences between the Step Over, Step In, and Step Out buttons in the debugger?\n",
    "\n",
    "(Ans)->The Step button will move the debugger into a function call.\n",
    "       The Over button will quickly execute the function call without stepping into it. \n",
    "       The Out button will quickly execute the rest of the code until it steps out of the function it currently is in."
   ]
  },
  {
   "cell_type": "code",
   "execution_count": null,
   "id": "ee233af9",
   "metadata": {},
   "outputs": [],
   "source": [
    "#10.After you click Continue, when will the debugger stop ?\n",
    "\n",
    "(Ans)-> After you click continue, \n",
    "        the debugger will stop when it has reached the end of the program or a line with a breakpoint."
   ]
  },
  {
   "cell_type": "code",
   "execution_count": null,
   "id": "08c57a76",
   "metadata": {},
   "outputs": [],
   "source": [
    "# 11. What is the concept of a breakpoint?\n",
    "\n",
    "(Ans)->\n",
    "        A breakpoint is a setting on a line of code that causes the debugger to pause when the program \n",
    "        execution reaches the line."
   ]
  },
  {
   "cell_type": "code",
   "execution_count": null,
   "id": "3512e04c",
   "metadata": {},
   "outputs": [],
   "source": []
  }
 ],
 "metadata": {
  "kernelspec": {
   "display_name": "Python 3 (ipykernel)",
   "language": "python",
   "name": "python3"
  },
  "language_info": {
   "codemirror_mode": {
    "name": "ipython",
    "version": 3
   },
   "file_extension": ".py",
   "mimetype": "text/x-python",
   "name": "python",
   "nbconvert_exporter": "python",
   "pygments_lexer": "ipython3",
   "version": "3.9.12"
  }
 },
 "nbformat": 4,
 "nbformat_minor": 5
}
