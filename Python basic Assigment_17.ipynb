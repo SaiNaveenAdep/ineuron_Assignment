{
 "cells": [
  {
   "cell_type": "code",
   "execution_count": null,
   "id": "2ab6b520",
   "metadata": {},
   "outputs": [],
   "source": [
    "\"\"\"Q1. Assign the value 7 to the variable guess_me. Then, write the conditional tests (if, else, and elif) to\n",
    "print the string 'too low' if guess_me is less than 7, 'too high' if greater than 7, and 'just right' if equal\n",
    "to 7.\"\"\""
   ]
  },
  {
   "cell_type": "code",
   "execution_count": 8,
   "id": "ec9fcc8a",
   "metadata": {},
   "outputs": [
    {
     "name": "stdout",
     "output_type": "stream",
     "text": [
      "enter value : 6\n",
      "The string is too low\n"
     ]
    }
   ],
   "source": [
    "guess_me = int(input(\"enter value : \"))\n",
    "if guess_me ==7:\n",
    "    print(\"The string is just right\")\n",
    "elif guess_me >7:\n",
    "    print(\"The string is high\")\n",
    "elif guess_me<7:\n",
    "    print(\"The string is too low\")\n",
    "else:\n",
    "    print(\"enter a number\")"
   ]
  },
  {
   "cell_type": "code",
   "execution_count": null,
   "id": "53d6951e",
   "metadata": {},
   "outputs": [],
   "source": [
    "\"\"\"Q2. Assign the value 7 to the variable guess_me and the value 1 to the variable start. Write a while\n",
    "loop that compares start with guess_me. Print too low if start is less than guess me. If start equals\n",
    "guess_me, print \"found it! \"and exit the loop. If start is greater than guess_me, print \"oops\" and exit\n",
    "the loop. Increment start at the end of the loop.\"\"\""
   ]
  },
  {
   "cell_type": "code",
   "execution_count": 19,
   "id": "68feb212",
   "metadata": {},
   "outputs": [
    {
     "name": "stdout",
     "output_type": "stream",
     "text": [
      "too low\n",
      "too low\n",
      "too low\n",
      "too low\n",
      "too low\n",
      "too low\n",
      "found it!\n"
     ]
    }
   ],
   "source": [
    "guess_me = 7\n",
    "start = 1\n",
    "\n",
    "while True:\n",
    "    if start < guess_me:\n",
    "        print(\"too low\")\n",
    "    elif start == guess_me:\n",
    "        print(\"found it!\")\n",
    "        break\n",
    "    else:\n",
    "        print(\"oops!\")\n",
    "        break\n",
    "    start +=1\n",
    "    \n",
    "    "
   ]
  },
  {
   "cell_type": "code",
   "execution_count": 20,
   "id": "e0771266",
   "metadata": {},
   "outputs": [
    {
     "name": "stdout",
     "output_type": "stream",
     "text": [
      "3\n",
      "2\n",
      "1\n",
      "0\n"
     ]
    }
   ],
   "source": [
    "# 3. Print the following values of the list [3, 2, 1, 0] using a for loop.\n",
    "\n",
    "list=[3,2,1,0]\n",
    "\n",
    "for i in list:\n",
    "    print(i)\n",
    "    "
   ]
  },
  {
   "cell_type": "code",
   "execution_count": 24,
   "id": "89e6b9e1",
   "metadata": {},
   "outputs": [
    {
     "name": "stdout",
     "output_type": "stream",
     "text": [
      "0\n",
      "2\n",
      "4\n",
      "6\n",
      "8\n"
     ]
    }
   ],
   "source": [
    "#4. Use a list comprehension to make a list of the even numbers in range(10)\n",
    "\n",
    "\n",
    "for i in range(10):\n",
    "    if i % 2==0:\n",
    "        print(i)"
   ]
  },
  {
   "cell_type": "code",
   "execution_count": 61,
   "id": "a4a31657",
   "metadata": {},
   "outputs": [
    {
     "data": {
      "text/plain": [
       "{0: 0, 1: 1, 2: 4, 3: 9, 4: 16, 5: 25, 6: 36, 7: 49, 8: 64, 9: 81}"
      ]
     },
     "execution_count": 61,
     "metadata": {},
     "output_type": "execute_result"
    }
   ],
   "source": [
    "# 5. Use a dictionary comprehension to create the dictionary squares. Use range(10) to return the\n",
    "# keys, and use the square of each key as its value.\n",
    "\n",
    "squares = {num: num * num for num in range(10)}\n",
    "squares\n"
   ]
  },
  {
   "cell_type": "code",
   "execution_count": 69,
   "id": "03f55d34",
   "metadata": {},
   "outputs": [
    {
     "name": "stdout",
     "output_type": "stream",
     "text": [
      "1\n",
      "3\n",
      "5\n",
      "7\n",
      "9\n"
     ]
    }
   ],
   "source": [
    "#6. Construct the set odd from the odd numbers in the range using a set comprehension (10).\n",
    "\n",
    "\n",
    "for i in range(10):\n",
    "    if i%2==1:\n",
    "        print(i)"
   ]
  },
  {
   "cell_type": "code",
   "execution_count": 70,
   "id": "5ec98ff7",
   "metadata": {},
   "outputs": [
    {
     "name": "stdout",
     "output_type": "stream",
     "text": [
      "Got 0\n",
      "Got 1\n",
      "Got 2\n",
      "Got 3\n",
      "Got 4\n",
      "Got 5\n",
      "Got 6\n",
      "Got 7\n",
      "Got 8\n",
      "Got 9\n"
     ]
    }
   ],
   "source": [
    "# 7. Use a generator comprehension to return the string \"Got \"and a number for the numbers in\n",
    "#range(10). Iterate through this by using a for loop.\n",
    "\n",
    "\n",
    "string_generator = ('Got ' + str(num) for num in range(10))\n",
    "for item in string_generator:\n",
    "    print(item)"
   ]
  },
  {
   "cell_type": "code",
   "execution_count": 71,
   "id": "7044ee23",
   "metadata": {},
   "outputs": [
    {
     "data": {
      "text/plain": [
       "['Harry', 'Ron', 'Hermione']"
      ]
     },
     "execution_count": 71,
     "metadata": {},
     "output_type": "execute_result"
    }
   ],
   "source": [
    "#8. Define a function called good that returns the list ['Harry', 'Ron', 'Hermione']\n",
    "\n",
    "\n",
    "def good():\n",
    "    return ['Harry', 'Ron', 'Hermione']\n",
    "\n",
    "good()\n",
    "    "
   ]
  },
  {
   "cell_type": "code",
   "execution_count": 103,
   "id": "69750551",
   "metadata": {},
   "outputs": [
    {
     "name": "stdout",
     "output_type": "stream",
     "text": [
      "The thid odd number is 5\n"
     ]
    }
   ],
   "source": [
    "# 9. Define a generator function called get_odds that returns the odd numbers from range(10). Use a\n",
    "#for loop to find and print the third value returned.\n",
    "\n",
    "\n",
    "\n",
    "def get_odd():\n",
    "    for i in range(1,10,2):\n",
    "        yield i\n",
    "count =1\n",
    "for j in get_odd():\n",
    "    if count==3:\n",
    "        print(\"The thid odd number is\",j)\n",
    "        break\n",
    "    count +=1"
   ]
  },
  {
   "cell_type": "code",
   "execution_count": 107,
   "id": "31415460",
   "metadata": {},
   "outputs": [
    {
     "name": "stdout",
     "output_type": "stream",
     "text": [
      "Caught an oops\n"
     ]
    }
   ],
   "source": [
    "#10. Define an exception called OopsException. Raise this exception to see what happens. Then write\n",
    "#the code to catch this exception and print\" Caught an oops\"\n",
    "\n",
    "class OopsException(Exception):\n",
    "    pass\n",
    "\n",
    "def raiseException(num):\n",
    "    if num < 0:\n",
    "        raise OopsException(num)\n",
    "\n",
    "try:\n",
    "    raiseException(-1)\n",
    "except OopsException as err:\n",
    "    print('Caught an oops')"
   ]
  },
  {
   "cell_type": "code",
   "execution_count": 108,
   "id": "473815ef",
   "metadata": {},
   "outputs": [
    {
     "name": "stdout",
     "output_type": "stream",
     "text": [
      "{'Creature of Habit': 'A nun turns into a monster', 'Crewel Fate': 'A haunted yarn shop'}\n"
     ]
    }
   ],
   "source": [
    "\"\"\"11 Use zip() to make a dictionary called movies that pairs these lists: titles = ['Creature of Habit', \n",
    "'Crewel Fate'] and plots = ['A nun turns into a monster', 'A haunted yarn shop'].\"\"\"\n",
    "    \n",
    "titles = ['Creature of Habit', 'Crewel Fate']\n",
    "plots = ['A nun turns into a monster', 'A haunted yarn shop']\n",
    "movies = dict(zip(titles, plots))\n",
    "print(movies)"
   ]
  },
  {
   "cell_type": "code",
   "execution_count": null,
   "id": "16fe3e8e",
   "metadata": {},
   "outputs": [],
   "source": []
  },
  {
   "cell_type": "code",
   "execution_count": null,
   "id": "9b52f9f6",
   "metadata": {},
   "outputs": [],
   "source": []
  }
 ],
 "metadata": {
  "kernelspec": {
   "display_name": "Python 3 (ipykernel)",
   "language": "python",
   "name": "python3"
  },
  "language_info": {
   "codemirror_mode": {
    "name": "ipython",
    "version": 3
   },
   "file_extension": ".py",
   "mimetype": "text/x-python",
   "name": "python",
   "nbconvert_exporter": "python",
   "pygments_lexer": "ipython3",
   "version": "3.9.12"
  }
 },
 "nbformat": 4,
 "nbformat_minor": 5
}
