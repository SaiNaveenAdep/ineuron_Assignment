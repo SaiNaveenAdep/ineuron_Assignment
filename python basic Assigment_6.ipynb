{
 "cells": [
  {
   "cell_type": "code",
   "execution_count": null,
   "id": "c9535fd7",
   "metadata": {},
   "outputs": [],
   "source": [
    "# 1. What are escape characters, and how do you use them?\n",
    "\n",
    "To insert characters that are illegal in a string, use an escape character.\n",
    "\n",
    "An escape character is a backslash \\ followed by the character you want to insert.\n",
    "\n",
    "An example of an illegal character is a double quote inside a string that is surrounded by double quotes:\n",
    "\n",
    "Example:\n",
    "    \n",
    "#You will get an error if you use double quotes inside a string that is surrounded by double quotes:\n",
    "\n",
    "txt = \"We are the so-called \"Vikings\" from the north.\"\n",
    "#To fix this problem, use the escape character \\\":\n",
    "\n",
    "Example:\n",
    "\n",
    "#The escape character allows you to use double quotes when you normally would not be allowed:\n",
    "\n",
    "txt = \"We are the so-called \\\"Vikings\\\" from the north.\""
   ]
  },
  {
   "cell_type": "code",
   "execution_count": null,
   "id": "edab930d",
   "metadata": {},
   "outputs": [],
   "source": [
    "# 2. What do the escape characters n and t stand for?\n",
    "\n",
    "\\n is a newline\n",
    "\\t is a tab."
   ]
  },
  {
   "cell_type": "code",
   "execution_count": null,
   "id": "0ff82091",
   "metadata": {},
   "outputs": [],
   "source": [
    "# 3. What is the way to include backslash characters in a string?\n",
    "\n",
    "The \\\\ escape character will represent a backslash character.\n"
   ]
  },
  {
   "cell_type": "code",
   "execution_count": null,
   "id": "d7aef689",
   "metadata": {},
   "outputs": [],
   "source": [
    "# 4. The string \"Howl's Moving Castle\" is a correct value. Why isn't the single quote character in the\n",
    "#word Howl's not escaped a problem?\n",
    "\n",
    "\n",
    "\n",
    "The single quote in Howl's is fine because we have used double quotes (\"\") \n",
    "to mark the beginning and end of the string."
   ]
  },
  {
   "cell_type": "code",
   "execution_count": null,
   "id": "57691f14",
   "metadata": {},
   "outputs": [],
   "source": [
    "# 5. How do you write a string of newlines if you don't want to use the n character?\n",
    "\n",
    "Multiline strings allow you to use newlines in strings\n",
    "without the \\n escape character.\n",
    "\n",
    "print(\"hello\")\n",
    "print(\"hello\")\n",
    "print(\"hello\")\n"
   ]
  },
  {
   "cell_type": "code",
   "execution_count": null,
   "id": "7b713167",
   "metadata": {},
   "outputs": [],
   "source": [
    "\"\"\" 6. What are the values of the given expressions?\n",
    "'Hello, world!'[1]\n",
    "'Hello, world!''[0:5]\n",
    "'Hello, world!'[:5]\n",
    "'Hello, world!'[3:]\"\"\"\n",
    "\n",
    "'Hello, world!'[1]-->e'\n",
    "\n",
    "'Hello, world!'[0:5] --> 'Hello'\n",
    "\n",
    "'Hello, world!'[:5]--> 'Hello'\n",
    "\n",
    "'Hello, world!'[3:]--> 'lo world!\n"
   ]
  },
  {
   "cell_type": "code",
   "execution_count": null,
   "id": "6489d533",
   "metadata": {},
   "outputs": [],
   "source": [
    "\"\"\"7. What are the values of the following expressions?\n",
    "'Hello'.upper()\n",
    "'Hello'.upper().isupper()\n",
    "'Hello'.upper().lower()\"\"\"\n",
    "\n",
    "'Hello'.upper() --> HELLO'\n",
    "'Hello'.upper().isupper()-->True\n",
    "'Hello'.upper().lower()-->'helo'\n"
   ]
  },
  {
   "cell_type": "code",
   "execution_count": 7,
   "id": "20d55c74",
   "metadata": {},
   "outputs": [
    {
     "data": {
      "text/plain": [
       "['Remember,', 'remember,', 'the', 'fifth', 'of', 'July.']"
      ]
     },
     "execution_count": 7,
     "metadata": {},
     "output_type": "execute_result"
    }
   ],
   "source": [
    "\"\"\" 8. What are the values of the following expressions?\n",
    "'Remember, remember, the fifth of July.'.split()\n",
    "'-'.join('There can only one.'.split())\"\"\"\n",
    "\n",
    "\n",
    "\n",
    "'Remember, remember, the fifth of July.'.split()\n",
    "\n"
   ]
  },
  {
   "cell_type": "code",
   "execution_count": 6,
   "id": "c48c79e7",
   "metadata": {},
   "outputs": [
    {
     "data": {
      "text/plain": [
       "'There-can-only-one.'"
      ]
     },
     "execution_count": 6,
     "metadata": {},
     "output_type": "execute_result"
    }
   ],
   "source": [
    "'-'.join('There can only one.'.split())"
   ]
  },
  {
   "cell_type": "code",
   "execution_count": null,
   "id": "148165de",
   "metadata": {},
   "outputs": [],
   "source": [
    "# 9. What are the methods for right-justifying, left-justifying, and centering a string?\n",
    "\n",
    "The right-justify --> rjust(), \n",
    "The left-justify --> ljust(), \n",
    "The center-justify --> center() \n",
    "string methods, respectively\n"
   ]
  },
  {
   "cell_type": "code",
   "execution_count": 26,
   "id": "5ddd9f33",
   "metadata": {},
   "outputs": [
    {
     "name": "stdout",
     "output_type": "stream",
     "text": [
      "#####Right-justify######\n",
      "66666666666666banana\n",
      "\n",
      "\n",
      "#####center-justify######\n",
      "6666666banana6666666\n",
      "\n",
      "\n",
      "############-----------------------###########------------------------\n",
      "\n",
      "\n",
      "#####left-justify######\n",
      "banana66666666666666\n"
     ]
    }
   ],
   "source": [
    "print(\"#####Right-justify######\")\n",
    "\n",
    "txt = \"banana\"\n",
    "\n",
    "x = txt.rjust(20,  \"6\")\n",
    "\n",
    "print(x)\n",
    "print(\"\\n\")\n",
    "\n",
    "# --------------------------------------------------\n",
    "\n",
    "print(\"#####center-justify######\")\n",
    "\n",
    "txt = \"banana\"\n",
    "\n",
    "x = txt.center(20,  \"6\")\n",
    "\n",
    "print(x)\n",
    "print(\"\\n\")\n",
    "print(\"############-----------------------###########------------------------\")\n",
    "print(\"\\n\")\n",
    "\n",
    "print(\"#####left-justify######\")\n",
    "\n",
    "txt = \"banana\"\n",
    "\n",
    "x = txt.ljust(20,  \"6\")\n",
    "\n",
    "print(x)\n",
    "\n"
   ]
  },
  {
   "cell_type": "code",
   "execution_count": null,
   "id": "4f6b9032",
   "metadata": {},
   "outputs": [],
   "source": [
    "# 10. What is the best way to remove whitespace characters from the start or end?\n",
    "\n",
    "\n",
    "The lstrip()  is used to remove space from left ends\n",
    "The rstrip()  is used to remove space from right ends\n",
    "\n"
   ]
  }
 ],
 "metadata": {
  "kernelspec": {
   "display_name": "Python 3 (ipykernel)",
   "language": "python",
   "name": "python3"
  },
  "language_info": {
   "codemirror_mode": {
    "name": "ipython",
    "version": 3
   },
   "file_extension": ".py",
   "mimetype": "text/x-python",
   "name": "python",
   "nbconvert_exporter": "python",
   "pygments_lexer": "ipython3",
   "version": "3.9.12"
  }
 },
 "nbformat": 4,
 "nbformat_minor": 5
}
