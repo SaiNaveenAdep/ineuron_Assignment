{
 "cells": [
  {
   "cell_type": "code",
   "execution_count": 2,
   "id": "9b86fc7f",
   "metadata": {},
   "outputs": [],
   "source": [
    "#1. Create a list called years_list, starting with the year of your birth, and each year thereafter until\n",
    "#the year of your fifth birthday. For example, if you were born in 1980. the list would be years_list =\n",
    "#[1980, 1981, 1982, 1983, 1984, 1985].\n",
    "\n",
    "\n",
    "year_list=[1996,1997,1998,1999,2000]"
   ]
  },
  {
   "cell_type": "code",
   "execution_count": 5,
   "id": "72de62cb",
   "metadata": {},
   "outputs": [
    {
     "name": "stdout",
     "output_type": "stream",
     "text": [
      "year_list :- [1996, 1997, 1998, 1999, 2000]\n"
     ]
    }
   ],
   "source": [
    "print(\"year_list\",\":-\",year_list)"
   ]
  },
  {
   "cell_type": "code",
   "execution_count": 10,
   "id": "36d6398a",
   "metadata": {},
   "outputs": [
    {
     "name": "stdout",
     "output_type": "stream",
     "text": [
      "my third birthday in year_list :- 1998\n"
     ]
    }
   ],
   "source": [
    "#2. In which year in years_list was your third birthday? Remember, you were 0 years of age for your\n",
    "#first year.\n",
    "\n",
    "year_list[2]                                # my year of list of third b_day list start from 0 on words\n",
    "\n",
    "print(\"my third birthday in year_list\",\":-\",year_list[2])"
   ]
  },
  {
   "cell_type": "code",
   "execution_count": 12,
   "id": "5f2ca9fd",
   "metadata": {},
   "outputs": [
    {
     "name": "stdout",
     "output_type": "stream",
     "text": [
      "I am oldest in year_list :- 2000\n"
     ]
    }
   ],
   "source": [
    "# 3.In the years list, which year were you the oldest?\n",
    "        \n",
    "year_list[4]                                   # I am oldest in the year_list start from 0 on words\n",
    "print(\"I am oldest in year_list\",\":-\",year_list[4])"
   ]
  },
  {
   "cell_type": "code",
   "execution_count": 19,
   "id": "c0bfe7bf",
   "metadata": {},
   "outputs": [],
   "source": [
    "#4. Make a list called things with these three strings as elements:\"mozzarella\", \"cinderella\",\"salmonella\"\n",
    "\n",
    "things=[\"mozzarella\", \"cinderella\",\"salmonella\"]"
   ]
  },
  {
   "cell_type": "code",
   "execution_count": 20,
   "id": "ca3b5794",
   "metadata": {},
   "outputs": [
    {
     "data": {
      "text/plain": [
       "['mozzarella', 'cinderella', 'salmonella']"
      ]
     },
     "execution_count": 20,
     "metadata": {},
     "output_type": "execute_result"
    }
   ],
   "source": [
    "things"
   ]
  },
  {
   "cell_type": "code",
   "execution_count": 37,
   "id": "a118bdd3",
   "metadata": {},
   "outputs": [
    {
     "name": "stdout",
     "output_type": "stream",
     "text": [
      "['MOZZARELLA', 'CINDERELLA', 'SALMONELLA']\n"
     ]
    }
   ],
   "source": [
    "#5. Capitalize the element in things that refers to a person and then print the list. Did it change the \n",
    "#element in the list?\"\"\"\n",
    "\n",
    "things=[\"mozzarella\", \"cinderella\",\"salmonella\"]\n",
    "things1 = [i.upper() for i in things]\n",
    "print(things1)\n",
    "\n",
    "# No it doesnot change the elements in the list it just capitalize the words in list\n",
    "\n",
    "\n",
    "\n",
    "\n"
   ]
  },
  {
   "cell_type": "code",
   "execution_count": 159,
   "id": "92e14664",
   "metadata": {},
   "outputs": [
    {
     "name": "stdout",
     "output_type": "stream",
     "text": [
      "Mozzarella\n",
      "Cinderella\n",
      "Salmonella\n",
      "Groucho\n",
      "Groucho\n",
      "Chico\n",
      "Harpo\n"
     ]
    }
   ],
   "source": [
    "for i in things:\n",
    "    print(i.capitalize())\n",
    "# No it doesnot change the elements in the list it just capitalize the words in list"
   ]
  },
  {
   "cell_type": "code",
   "execution_count": 39,
   "id": "6229e0b2",
   "metadata": {},
   "outputs": [
    {
     "name": "stdout",
     "output_type": "stream",
     "text": [
      "MOZZARELLA\n",
      "CINDERELLA\n",
      "SALMONELLA\n"
     ]
    }
   ],
   "source": [
    "things=[\"mozzarella\", \"cinderella\",\"salmonella\"]\n",
    "\n",
    "for i in things:\n",
    "    print(i.upper())"
   ]
  },
  {
   "cell_type": "code",
   "execution_count": 72,
   "id": "fb4f96d0",
   "metadata": {},
   "outputs": [],
   "source": [
    " # 6. Make a surprise list with the elements \"Groucho\", \"Chico\",and \"Harpo\".\n",
    "surprise =[ \"Groucho\", \"Chico\",\"Harpo\"]"
   ]
  },
  {
   "cell_type": "code",
   "execution_count": 73,
   "id": "8daeb56c",
   "metadata": {},
   "outputs": [
    {
     "data": {
      "text/plain": [
       "['Groucho', 'Chico', 'Harpo']"
      ]
     },
     "execution_count": 73,
     "metadata": {},
     "output_type": "execute_result"
    }
   ],
   "source": [
    "surprise"
   ]
  },
  {
   "cell_type": "code",
   "execution_count": 151,
   "id": "53fdf18a",
   "metadata": {},
   "outputs": [
    {
     "data": {
      "text/plain": [
       "'harpo'"
      ]
     },
     "execution_count": 151,
     "metadata": {},
     "output_type": "execute_result"
    }
   ],
   "source": [
    "#7. Lowercase the last element of the surprise list, reverse it, and then capitalize it.\n",
    "\n",
    "surprise[-1].lower()          \n",
    "\n"
   ]
  },
  {
   "cell_type": "code",
   "execution_count": 155,
   "id": "81f6dc4d",
   "metadata": {},
   "outputs": [
    {
     "data": {
      "text/plain": [
       "'oprah'"
      ]
     },
     "execution_count": 155,
     "metadata": {},
     "output_type": "execute_result"
    }
   ],
   "source": [
    "surprise[-1][::-1]      # reverse it\n"
   ]
  },
  {
   "cell_type": "code",
   "execution_count": 156,
   "id": "09b4207a",
   "metadata": {},
   "outputs": [
    {
     "data": {
      "text/plain": [
       "'OPRAH'"
      ]
     },
     "execution_count": 156,
     "metadata": {},
     "output_type": "execute_result"
    }
   ],
   "source": [
    "surprise[-1][::-1].upper()  # capitalize"
   ]
  },
  {
   "cell_type": "code",
   "execution_count": 98,
   "id": "133e53de",
   "metadata": {},
   "outputs": [
    {
     "name": "stdout",
     "output_type": "stream",
     "text": [
      "['groucho', 'chico', 'harpo']\n"
     ]
    }
   ],
   "source": [
    "surprise = [\"Groucho\", \"Chico\",\"Harpo\"]\n",
    "for i in range(len(s)):\n",
    "    s[i] = s[i].lower()\n",
    "print(s)"
   ]
  },
  {
   "cell_type": "code",
   "execution_count": 99,
   "id": "4b05b5b9",
   "metadata": {},
   "outputs": [],
   "source": [
    "surprise.reverse()"
   ]
  },
  {
   "cell_type": "code",
   "execution_count": 101,
   "id": "8b3cd7a3",
   "metadata": {},
   "outputs": [
    {
     "data": {
      "text/plain": [
       "['groucho', 'chico', 'harpo']"
      ]
     },
     "execution_count": 101,
     "metadata": {},
     "output_type": "execute_result"
    }
   ],
   "source": [
    "surprise"
   ]
  },
  {
   "cell_type": "code",
   "execution_count": 103,
   "id": "de002671",
   "metadata": {},
   "outputs": [
    {
     "data": {
      "text/plain": [
       "['mozzarella',\n",
       " 'cinderella',\n",
       " 'salmonella',\n",
       " 'Groucho',\n",
       " 'Groucho',\n",
       " 'Chico',\n",
       " 'Harpo']"
      ]
     },
     "execution_count": 103,
     "metadata": {},
     "output_type": "execute_result"
    }
   ],
   "source": [
    "things"
   ]
  },
  {
   "cell_type": "code",
   "execution_count": 105,
   "id": "e42a1d5a",
   "metadata": {},
   "outputs": [
    {
     "name": "stdout",
     "output_type": "stream",
     "text": [
      "GROUCHO\n",
      "CHICO\n",
      "HARPO\n"
     ]
    }
   ],
   "source": [
    "for i in surprise:\n",
    "    print(i.upper())\n",
    "\n"
   ]
  },
  {
   "cell_type": "code",
   "execution_count": 106,
   "id": "40f386da",
   "metadata": {},
   "outputs": [
    {
     "name": "stdout",
     "output_type": "stream",
     "text": [
      "{'dog': 'chien', 'cat': 'chat', 'warls': 'mouse'}\n"
     ]
    }
   ],
   "source": [
    "# 8. Make an English-to-French dictionary called e2f and print it. Here are your starter words: dog is chien, cat is chat, and walrus is morse.\n",
    "\n",
    "e2f = {\n",
    "  \"dog\":\"chien\",\n",
    "  \"cat\":\"chat\",\n",
    "  \"warls\":\"mouse\"\n",
    "}\n",
    "\n",
    "print(e2f)\n",
    "    \n",
    "    "
   ]
  },
  {
   "cell_type": "code",
   "execution_count": 113,
   "id": "2a0ccd9b",
   "metadata": {},
   "outputs": [
    {
     "name": "stdout",
     "output_type": "stream",
     "text": [
      "mouse\n"
     ]
    }
   ],
   "source": [
    "# 9. Write the French word for walrus in your three-word dictionary e2f.\n",
    "\n",
    "e2f = {\n",
    "  \"dog\":\"chien\",\n",
    "  \"cat\":\"chat\",\n",
    "  \"warls\":\"mouse\"\n",
    "}\n",
    "French = e2f[\"warls\"]\n",
    "print(French)"
   ]
  },
  {
   "cell_type": "code",
   "execution_count": 127,
   "id": "91bae5a0",
   "metadata": {},
   "outputs": [
    {
     "name": "stdout",
     "output_type": "stream",
     "text": [
      "These are the words from English-to-French :- dict_items([('dog', 'chien'), ('cat', 'chat'), ('warls', 'mouse')])\n",
      "These are the words from French-To-English :- dict_items([('chien', 'dog'), ('chat', 'cat'), ('mouse', 'warls')])\n"
     ]
    }
   ],
   "source": [
    "# 10. Make a French-to-English dictionary called f2e from e2f. Use the items method.\n",
    "\n",
    "f2e = {\n",
    "    \"chien\": \"dog\",\n",
    "    \"chat\": \"cat\",\n",
    "    \"mouse\": \"warls\"\n",
    "}\n",
    "x =e2f.items()\n",
    "x1 = f2e.items()\n",
    "print(\"These are the words from English-to-French\", \":-\",x)\n",
    "print(\"These are the words from French-To-English\",\":-\",x1)"
   ]
  },
  {
   "cell_type": "code",
   "execution_count": 146,
   "id": "e10109b8",
   "metadata": {},
   "outputs": [
    {
     "data": {
      "text/plain": [
       "'dog'"
      ]
     },
     "execution_count": 146,
     "metadata": {},
     "output_type": "execute_result"
    }
   ],
   "source": [
    "#11. Print the English version of the French word chien using f2e.\n",
    "\n",
    "\n",
    "f2e['chien']\n",
    "\n"
   ]
  },
  {
   "cell_type": "code",
   "execution_count": 147,
   "id": "686ec4dd",
   "metadata": {},
   "outputs": [
    {
     "name": "stdout",
     "output_type": "stream",
     "text": [
      "dict_keys(['dog', 'cat', 'warls'])\n"
     ]
    },
    {
     "data": {
      "text/plain": [
       "dict_keys(['dog', 'cat', 'warls'])"
      ]
     },
     "execution_count": 147,
     "metadata": {},
     "output_type": "execute_result"
    }
   ],
   "source": [
    "# 12. Make and print a set of English words from the keys in e2f.\n",
    "e2f = {\n",
    "  \"dog\":\"chien\",\n",
    "  \"cat\":\"chat\",\n",
    "  \"warls\":\"mouse\"\n",
    "}\n",
    "keys =e2f.keys()\n",
    "print(keys)\n",
    "\n",
    "e2f.keys()\n"
   ]
  },
  {
   "cell_type": "code",
   "execution_count": 141,
   "id": "cd153c6f",
   "metadata": {},
   "outputs": [
    {
     "data": {
      "text/plain": [
       "{'animals': {'cat': ['Henri', 'Grumpy', 'Lucy'], 'octopi': '', 'emus': ''},\n",
       " 'plants': '',\n",
       " 'other': ''}"
      ]
     },
     "execution_count": 141,
     "metadata": {},
     "output_type": "execute_result"
    }
   ],
   "source": [
    "\"\"\"13. Make a multilevel dictionary called life. Use these strings for the topmost keys: \"animals\",\"plants\",\n",
    "and \"other\". Make the \"animals\" key refer to another dictionary with the keys \"cats\" \"octopi\", and\n",
    "\"emus\" Make the \"cats\" key refer to a list of strings with the values \"Henri\", \"Grumpy\", and \"Lucy\".\n",
    "Make all the other keys refer to empty dictionaries.\"\"\"\n",
    "\n",
    "\n",
    "\n",
    "life ={'animals':{'cat':['Henri', 'Grumpy', 'Lucy'], 'octopi':'', 'emus':''},\n",
    "       'plants' :'',\n",
    "       'other' :'' }\n",
    "life\n",
    "\n",
    "\n",
    "\n"
   ]
  },
  {
   "cell_type": "code",
   "execution_count": 142,
   "id": "15cc74c8",
   "metadata": {},
   "outputs": [
    {
     "data": {
      "text/plain": [
       "dict_keys(['animals', 'plants', 'other'])"
      ]
     },
     "execution_count": 142,
     "metadata": {},
     "output_type": "execute_result"
    }
   ],
   "source": [
    "# 14. Print the top-level keys of life.\n",
    "\n",
    "\n",
    "life.keys()"
   ]
  },
  {
   "cell_type": "code",
   "execution_count": 143,
   "id": "00561817",
   "metadata": {},
   "outputs": [
    {
     "data": {
      "text/plain": [
       "dict_keys(['cat', 'octopi', 'emus'])"
      ]
     },
     "execution_count": 143,
     "metadata": {},
     "output_type": "execute_result"
    }
   ],
   "source": [
    "# 15. Print the keys for life['animals'].\n",
    "\n",
    "life['animals'].keys()"
   ]
  },
  {
   "cell_type": "code",
   "execution_count": 145,
   "id": "fe0119a7",
   "metadata": {},
   "outputs": [
    {
     "data": {
      "text/plain": [
       "['Henri', 'Grumpy', 'Lucy']"
      ]
     },
     "execution_count": 145,
     "metadata": {},
     "output_type": "execute_result"
    }
   ],
   "source": [
    "#16. Print the values for life[\"animals\"][\"cats\"]\n",
    "\n",
    "life['animals']['cat']"
   ]
  },
  {
   "cell_type": "code",
   "execution_count": null,
   "id": "ef27ed84",
   "metadata": {},
   "outputs": [],
   "source": []
  }
 ],
 "metadata": {
  "kernelspec": {
   "display_name": "Python 3 (ipykernel)",
   "language": "python",
   "name": "python3"
  },
  "language_info": {
   "codemirror_mode": {
    "name": "ipython",
    "version": 3
   },
   "file_extension": ".py",
   "mimetype": "text/x-python",
   "name": "python",
   "nbconvert_exporter": "python",
   "pygments_lexer": "ipython3",
   "version": "3.9.12"
  }
 },
 "nbformat": 4,
 "nbformat_minor": 5
}
